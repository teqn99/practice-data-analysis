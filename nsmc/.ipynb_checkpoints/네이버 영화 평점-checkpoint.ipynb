{
 "cells": [
  {
   "cell_type": "markdown",
   "metadata": {},
   "source": [
    "- 네이버 영화 평점: https://movie.naver.com/movie/point/af/list.nhn\n",
    "- 훈련 데이터: ratings_train.txt\n",
    "- Test 데이터: ratings_test.txt\n",
    "- 데이터: https://github.com/e9t/nsmc\n",
    "    - 리뷰: document\n",
    "    - 긍부정: label - 0:부정, 1:긍정"
   ]
  },
  {
   "cell_type": "markdown",
   "metadata": {},
   "source": [
    "## 훈련/테스트 데이터 셋 읽기"
   ]
  },
  {
   "cell_type": "code",
   "execution_count": 1,
   "metadata": {},
   "outputs": [
    {
     "data": {
      "text/html": [
       "<div>\n",
       "<style scoped>\n",
       "    .dataframe tbody tr th:only-of-type {\n",
       "        vertical-align: middle;\n",
       "    }\n",
       "\n",
       "    .dataframe tbody tr th {\n",
       "        vertical-align: top;\n",
       "    }\n",
       "\n",
       "    .dataframe thead th {\n",
       "        text-align: right;\n",
       "    }\n",
       "</style>\n",
       "<table border=\"1\" class=\"dataframe\">\n",
       "  <thead>\n",
       "    <tr style=\"text-align: right;\">\n",
       "      <th></th>\n",
       "      <th>document</th>\n",
       "      <th>label</th>\n",
       "    </tr>\n",
       "  </thead>\n",
       "  <tbody>\n",
       "    <tr>\n",
       "      <th>0</th>\n",
       "      <td>아 더빙.. 진짜 짜증나네요 목소리</td>\n",
       "      <td>0</td>\n",
       "    </tr>\n",
       "    <tr>\n",
       "      <th>1</th>\n",
       "      <td>흠...포스터보고 초딩영화줄....오버연기조차 가볍지 않구나</td>\n",
       "      <td>1</td>\n",
       "    </tr>\n",
       "    <tr>\n",
       "      <th>2</th>\n",
       "      <td>너무재밓었다그래서보는것을추천한다</td>\n",
       "      <td>0</td>\n",
       "    </tr>\n",
       "    <tr>\n",
       "      <th>3</th>\n",
       "      <td>교도소 이야기구먼 ..솔직히 재미는 없다..평점 조정</td>\n",
       "      <td>0</td>\n",
       "    </tr>\n",
       "    <tr>\n",
       "      <th>4</th>\n",
       "      <td>사이몬페그의 익살스런 연기가 돋보였던 영화!스파이더맨에서 늙어보이기만 했던 커스틴 ...</td>\n",
       "      <td>1</td>\n",
       "    </tr>\n",
       "    <tr>\n",
       "      <th>...</th>\n",
       "      <td>...</td>\n",
       "      <td>...</td>\n",
       "    </tr>\n",
       "    <tr>\n",
       "      <th>149990</th>\n",
       "      <td>인간이 문제지.. 소는 뭔죄인가..</td>\n",
       "      <td>0</td>\n",
       "    </tr>\n",
       "    <tr>\n",
       "      <th>149991</th>\n",
       "      <td>평점이 너무 낮아서...</td>\n",
       "      <td>1</td>\n",
       "    </tr>\n",
       "    <tr>\n",
       "      <th>149992</th>\n",
       "      <td>이게 뭐요? 한국인은 거들먹거리고 필리핀 혼혈은 착하다?</td>\n",
       "      <td>0</td>\n",
       "    </tr>\n",
       "    <tr>\n",
       "      <th>149993</th>\n",
       "      <td>청춘 영화의 최고봉.방황과 우울했던 날들의 자화상</td>\n",
       "      <td>1</td>\n",
       "    </tr>\n",
       "    <tr>\n",
       "      <th>149994</th>\n",
       "      <td>한국 영화 최초로 수간하는 내용이 담긴 영화</td>\n",
       "      <td>0</td>\n",
       "    </tr>\n",
       "  </tbody>\n",
       "</table>\n",
       "<p>149995 rows × 2 columns</p>\n",
       "</div>"
      ],
      "text/plain": [
       "                                                 document  label\n",
       "0                                     아 더빙.. 진짜 짜증나네요 목소리      0\n",
       "1                       흠...포스터보고 초딩영화줄....오버연기조차 가볍지 않구나      1\n",
       "2                                       너무재밓었다그래서보는것을추천한다      0\n",
       "3                           교도소 이야기구먼 ..솔직히 재미는 없다..평점 조정      0\n",
       "4       사이몬페그의 익살스런 연기가 돋보였던 영화!스파이더맨에서 늙어보이기만 했던 커스틴 ...      1\n",
       "...                                                   ...    ...\n",
       "149990                                인간이 문제지.. 소는 뭔죄인가..      0\n",
       "149991                                      평점이 너무 낮아서...      1\n",
       "149992                    이게 뭐요? 한국인은 거들먹거리고 필리핀 혼혈은 착하다?      0\n",
       "149993                        청춘 영화의 최고봉.방황과 우울했던 날들의 자화상      1\n",
       "149994                           한국 영화 최초로 수간하는 내용이 담긴 영화      0\n",
       "\n",
       "[149995 rows x 2 columns]"
      ]
     },
     "execution_count": 1,
     "metadata": {},
     "output_type": "execute_result"
    }
   ],
   "source": [
    "import pandas as pd\n",
    "\n",
    "ratings_train = pd.read_csv('data/ratings_train.txt', sep = '\\t')\n",
    "ratings_train = ratings_train.dropna()\n",
    "\n",
    "ratings_train = ratings_train.set_index('id')\n",
    "ratings_train = ratings_train.reset_index()\n",
    "\n",
    "del ratings_train['id']\n",
    "ratings_train"
   ]
  },
  {
   "cell_type": "code",
   "execution_count": 2,
   "metadata": {},
   "outputs": [
    {
     "data": {
      "text/html": [
       "<div>\n",
       "<style scoped>\n",
       "    .dataframe tbody tr th:only-of-type {\n",
       "        vertical-align: middle;\n",
       "    }\n",
       "\n",
       "    .dataframe tbody tr th {\n",
       "        vertical-align: top;\n",
       "    }\n",
       "\n",
       "    .dataframe thead th {\n",
       "        text-align: right;\n",
       "    }\n",
       "</style>\n",
       "<table border=\"1\" class=\"dataframe\">\n",
       "  <thead>\n",
       "    <tr style=\"text-align: right;\">\n",
       "      <th></th>\n",
       "      <th>document</th>\n",
       "      <th>label</th>\n",
       "    </tr>\n",
       "  </thead>\n",
       "  <tbody>\n",
       "    <tr>\n",
       "      <th>0</th>\n",
       "      <td>굳 ㅋ</td>\n",
       "      <td>1</td>\n",
       "    </tr>\n",
       "    <tr>\n",
       "      <th>1</th>\n",
       "      <td>GDNTOPCLASSINTHECLUB</td>\n",
       "      <td>0</td>\n",
       "    </tr>\n",
       "    <tr>\n",
       "      <th>2</th>\n",
       "      <td>뭐야 이 평점들은.... 나쁘진 않지만 10점 짜리는 더더욱 아니잖아</td>\n",
       "      <td>0</td>\n",
       "    </tr>\n",
       "    <tr>\n",
       "      <th>3</th>\n",
       "      <td>지루하지는 않은데 완전 막장임... 돈주고 보기에는....</td>\n",
       "      <td>0</td>\n",
       "    </tr>\n",
       "    <tr>\n",
       "      <th>4</th>\n",
       "      <td>3D만 아니었어도 별 다섯 개 줬을텐데.. 왜 3D로 나와서 제 심기를 불편하게 하죠??</td>\n",
       "      <td>0</td>\n",
       "    </tr>\n",
       "    <tr>\n",
       "      <th>...</th>\n",
       "      <td>...</td>\n",
       "      <td>...</td>\n",
       "    </tr>\n",
       "    <tr>\n",
       "      <th>49992</th>\n",
       "      <td>오랜만에 평점 로긴했네ㅋㅋ 킹왕짱 쌈뽕한 영화를 만났습니다 강렬하게 육쾌함</td>\n",
       "      <td>1</td>\n",
       "    </tr>\n",
       "    <tr>\n",
       "      <th>49993</th>\n",
       "      <td>의지 박약들이나 하는거다 탈영은 일단 주인공 김대희 닮았고 이등병 찐따 OOOO</td>\n",
       "      <td>0</td>\n",
       "    </tr>\n",
       "    <tr>\n",
       "      <th>49994</th>\n",
       "      <td>그림도 좋고 완성도도 높았지만... 보는 내내 불안하게 만든다</td>\n",
       "      <td>0</td>\n",
       "    </tr>\n",
       "    <tr>\n",
       "      <th>49995</th>\n",
       "      <td>절대 봐서는 안 될 영화.. 재미도 없고 기분만 잡치고.. 한 세트장에서 다 해먹네</td>\n",
       "      <td>0</td>\n",
       "    </tr>\n",
       "    <tr>\n",
       "      <th>49996</th>\n",
       "      <td>마무리는 또 왜이래</td>\n",
       "      <td>0</td>\n",
       "    </tr>\n",
       "  </tbody>\n",
       "</table>\n",
       "<p>49997 rows × 2 columns</p>\n",
       "</div>"
      ],
      "text/plain": [
       "                                                document  label\n",
       "0                                                    굳 ㅋ      1\n",
       "1                                   GDNTOPCLASSINTHECLUB      0\n",
       "2                 뭐야 이 평점들은.... 나쁘진 않지만 10점 짜리는 더더욱 아니잖아      0\n",
       "3                       지루하지는 않은데 완전 막장임... 돈주고 보기에는....      0\n",
       "4      3D만 아니었어도 별 다섯 개 줬을텐데.. 왜 3D로 나와서 제 심기를 불편하게 하죠??      0\n",
       "...                                                  ...    ...\n",
       "49992          오랜만에 평점 로긴했네ㅋㅋ 킹왕짱 쌈뽕한 영화를 만났습니다 강렬하게 육쾌함      1\n",
       "49993       의지 박약들이나 하는거다 탈영은 일단 주인공 김대희 닮았고 이등병 찐따 OOOO      0\n",
       "49994                 그림도 좋고 완성도도 높았지만... 보는 내내 불안하게 만든다      0\n",
       "49995     절대 봐서는 안 될 영화.. 재미도 없고 기분만 잡치고.. 한 세트장에서 다 해먹네      0\n",
       "49996                                         마무리는 또 왜이래      0\n",
       "\n",
       "[49997 rows x 2 columns]"
      ]
     },
     "execution_count": 2,
     "metadata": {},
     "output_type": "execute_result"
    }
   ],
   "source": [
    "ratings_test = pd.read_csv('data/ratings_test.txt', sep = '\\t')\n",
    "ratings_test = ratings_test.dropna()\n",
    "\n",
    "ratings_test = ratings_test.set_index('id')\n",
    "ratings_test = ratings_test.reset_index()\n",
    "\n",
    "del ratings_test['id']\n",
    "ratings_test"
   ]
  },
  {
   "cell_type": "code",
   "execution_count": 3,
   "metadata": {},
   "outputs": [
    {
     "data": {
      "text/plain": [
       "['아 더빙.. 진짜 짜증나네요 목소리',\n",
       " '흠...포스터보고 초딩영화줄....오버연기조차 가볍지 않구나',\n",
       " '너무재밓었다그래서보는것을추천한다',\n",
       " '교도소 이야기구먼 ..솔직히 재미는 없다..평점 조정',\n",
       " '사이몬페그의 익살스런 연기가 돋보였던 영화!스파이더맨에서 늙어보이기만 했던 커스틴 던스트가 너무나도 이뻐보였다',\n",
       " '막 걸음마 뗀 3세부터 초등학교 1학년생인 8살용영화.ㅋㅋㅋ...별반개도 아까움.',\n",
       " '원작의 긴장감을 제대로 살려내지못했다.',\n",
       " '별 반개도 아깝다 욕나온다 이응경 길용우 연기생활이몇년인지..정말 발로해도 그것보단 낫겟다 납치.감금만반복반복..이드라마는 가족도없다 연기못하는사람만모엿네',\n",
       " '액션이 없는데도 재미 있는 몇안되는 영화',\n",
       " '왜케 평점이 낮은건데? 꽤 볼만한데.. 헐리우드식 화려함에만 너무 길들여져 있나?']"
      ]
     },
     "execution_count": 3,
     "metadata": {},
     "output_type": "execute_result"
    }
   ],
   "source": [
    "train = []\n",
    "for i in range(len(ratings_train['document'])):\n",
    "    train.append(ratings_train['document'][i])\n",
    "train[:10]"
   ]
  },
  {
   "cell_type": "code",
   "execution_count": 4,
   "metadata": {},
   "outputs": [
    {
     "data": {
      "text/plain": [
       "['굳 ㅋ',\n",
       " 'GDNTOPCLASSINTHECLUB',\n",
       " '뭐야 이 평점들은.... 나쁘진 않지만 10점 짜리는 더더욱 아니잖아',\n",
       " '지루하지는 않은데 완전 막장임... 돈주고 보기에는....',\n",
       " '3D만 아니었어도 별 다섯 개 줬을텐데.. 왜 3D로 나와서 제 심기를 불편하게 하죠??',\n",
       " '음악이 주가 된, 최고의 음악영화',\n",
       " '진정한 쓰레기',\n",
       " '마치 미국애니에서 튀어나온듯한 창의력없는 로봇디자인부터가,고개를 젖게한다',\n",
       " '갈수록 개판되가는 중국영화 유치하고 내용없음 폼잡다 끝남 말도안되는 무기에 유치한cg남무 아 그립다 동사서독같은 영화가 이건 3류아류작이다',\n",
       " '이별의 아픔뒤에 찾아오는 새로운 인연의 기쁨 But, 모든 사람이 그렇지는 않네..']"
      ]
     },
     "execution_count": 4,
     "metadata": {},
     "output_type": "execute_result"
    }
   ],
   "source": [
    "test = []\n",
    "for i in range(len(ratings_test['document'])):\n",
    "    test.append(ratings_test['document'][i])\n",
    "test[:10]"
   ]
  },
  {
   "cell_type": "markdown",
   "metadata": {},
   "source": [
    "## 데이터셋 확인"
   ]
  },
  {
   "cell_type": "code",
   "execution_count": 5,
   "metadata": {},
   "outputs": [
    {
     "data": {
      "text/plain": [
       "array([0, 1, 0, ..., 0, 1, 0])"
      ]
     },
     "execution_count": 5,
     "metadata": {},
     "output_type": "execute_result"
    }
   ],
   "source": [
    "ratings_train['label'].values"
   ]
  },
  {
   "cell_type": "code",
   "execution_count": 6,
   "metadata": {},
   "outputs": [
    {
     "data": {
      "text/plain": [
       "array([1, 0, 0, ..., 0, 0, 0])"
      ]
     },
     "execution_count": 6,
     "metadata": {},
     "output_type": "execute_result"
    }
   ],
   "source": [
    "ratings_test['label'].values"
   ]
  },
  {
   "cell_type": "code",
   "execution_count": 7,
   "metadata": {},
   "outputs": [
    {
     "data": {
      "text/plain": [
       "149995"
      ]
     },
     "execution_count": 7,
     "metadata": {},
     "output_type": "execute_result"
    }
   ],
   "source": [
    "len(ratings_train['label'])"
   ]
  },
  {
   "cell_type": "code",
   "execution_count": 8,
   "metadata": {},
   "outputs": [
    {
     "data": {
      "text/plain": [
       "49997"
      ]
     },
     "execution_count": 8,
     "metadata": {},
     "output_type": "execute_result"
    }
   ],
   "source": [
    "len(ratings_test['label'])"
   ]
  },
  {
   "cell_type": "markdown",
   "metadata": {},
   "source": [
    "## 텍스트 전처리"
   ]
  },
  {
   "cell_type": "code",
   "execution_count": 20,
   "metadata": {},
   "outputs": [],
   "source": [
    "from konlpy.tag import Okt\n",
    "okt = Okt()\n",
    "\n",
    "def get_wordnet_tagset(tag):\n",
    "    if tag.startswith('Adj'):  # 형용사\n",
    "        return 'a'\n",
    "    elif tag.startswith('N'):  # 명사\n",
    "        return 'n'\n",
    "    elif tag.startswith('V'):  # 동사\n",
    "        return 'v'\n",
    "    elif tag.startswith('Adv'):  # 부사\n",
    "        return 'r'\n",
    "    else:\n",
    "        return None\n",
    "\n",
    "def text_preprocessing(documents):\n",
    "    \"\"\"\n",
    "    문서 리스트를 받아서 각각의 문서를 전처리\n",
    "    [매개변수]\n",
    "        documents: 문서 리스트\n",
    "    [반환값]\n",
    "        list: 전처리된 문서들을 가진 리스트\n",
    "    \"\"\"\n",
    "    return_list = []  # 결과를 담을 리스트\n",
    "    \n",
    "    for document in documents:      \n",
    "        tokens = okt.pos(document)\n",
    "        tokens = [word for word, tag in tokens if get_wordnet_tagset(tag) != None]\n",
    "        return_list.append(' '.join(tokens))\n",
    "        \n",
    "    return return_list"
   ]
  },
  {
   "cell_type": "code",
   "execution_count": 21,
   "metadata": {},
   "outputs": [],
   "source": [
    "X_train = text_preprocessing(train)\n",
    "y_train = ratings_train['label'].values\n",
    "X_test = text_preprocessing(test)\n",
    "y_test = ratings_test['label'].values"
   ]
  },
  {
   "cell_type": "markdown",
   "metadata": {},
   "source": [
    "## Feature Vectorization"
   ]
  },
  {
   "cell_type": "code",
   "execution_count": 22,
   "metadata": {},
   "outputs": [
    {
     "data": {
      "text/plain": [
       "14339"
      ]
     },
     "execution_count": 22,
     "metadata": {},
     "output_type": "execute_result"
    }
   ],
   "source": [
    "from sklearn.feature_extraction.text import CountVectorizer\n",
    "\n",
    "cv = CountVectorizer(min_df = 10)\n",
    "cv.fit(X_train + X_test)\n",
    "len(cv.get_feature_names())"
   ]
  },
  {
   "cell_type": "code",
   "execution_count": 23,
   "metadata": {},
   "outputs": [],
   "source": [
    "X_train_dtm = cv.transform(X_train)\n",
    "X_test_dtm = cv.transform(X_test)"
   ]
  },
  {
   "cell_type": "code",
   "execution_count": 24,
   "metadata": {},
   "outputs": [
    {
     "data": {
      "text/plain": [
       "((149995, 14339), (49997, 14339))"
      ]
     },
     "execution_count": 24,
     "metadata": {},
     "output_type": "execute_result"
    }
   ],
   "source": [
    "X_train_dtm.shape, X_test_dtm.shape"
   ]
  },
  {
   "cell_type": "code",
   "execution_count": 25,
   "metadata": {
    "collapsed": true
   },
   "outputs": [
    {
     "data": {
      "text/plain": [
       "['00',\n",
       " '007',\n",
       " '007시',\n",
       " '01',\n",
       " '10',\n",
       " '100',\n",
       " '1000',\n",
       " '10000',\n",
       " '1000만',\n",
       " '100년',\n",
       " '100만',\n",
       " '100분',\n",
       " '100회',\n",
       " '10년',\n",
       " '10만',\n",
       " '10분',\n",
       " '10시',\n",
       " '10억',\n",
       " '10월',\n",
       " '10초',\n",
       " '11',\n",
       " '11년',\n",
       " '11시',\n",
       " '12',\n",
       " '120',\n",
       " '120분',\n",
       " '123',\n",
       " '12년',\n",
       " '12월',\n",
       " '13',\n",
       " '13년',\n",
       " '13일',\n",
       " '14',\n",
       " '140',\n",
       " '14년',\n",
       " '15',\n",
       " '150',\n",
       " '15년',\n",
       " '15분',\n",
       " '16',\n",
       " '16년',\n",
       " '17',\n",
       " '17년',\n",
       " '18',\n",
       " '180',\n",
       " '19',\n",
       " '1960년',\n",
       " '1970년',\n",
       " '1980년',\n",
       " '1990년',\n",
       " '1992년',\n",
       " '1995년',\n",
       " '1996년',\n",
       " '1997년',\n",
       " '1998년',\n",
       " '1999년',\n",
       " '1년',\n",
       " '1등',\n",
       " '1만',\n",
       " '1분',\n",
       " '1시',\n",
       " '1시간',\n",
       " '1억',\n",
       " '1월',\n",
       " '1초',\n",
       " '1회',\n",
       " '20',\n",
       " '200',\n",
       " '2000년',\n",
       " '2001년',\n",
       " '2002년',\n",
       " '2003년',\n",
       " '2004년',\n",
       " '2005년',\n",
       " '2006년',\n",
       " '2007년',\n",
       " '2008년',\n",
       " '2009년',\n",
       " '2010년',\n",
       " '2011년',\n",
       " '2012',\n",
       " '2012년',\n",
       " '2013',\n",
       " '2013년',\n",
       " '2014',\n",
       " '2014년',\n",
       " '2015',\n",
       " '2015년',\n",
       " '20년',\n",
       " '20분',\n",
       " '21',\n",
       " '22',\n",
       " '23',\n",
       " '24',\n",
       " '25',\n",
       " '25년',\n",
       " '26',\n",
       " '26년',\n",
       " '27',\n",
       " '28',\n",
       " '28일',\n",
       " '29',\n",
       " '2년',\n",
       " '2등',\n",
       " '2만',\n",
       " '2분',\n",
       " '2시',\n",
       " '2시간',\n",
       " '2월',\n",
       " '2일',\n",
       " '2회',\n",
       " '30',\n",
       " '300',\n",
       " '30년',\n",
       " '30분',\n",
       " '30초',\n",
       " '32',\n",
       " '33',\n",
       " '34',\n",
       " '35',\n",
       " '3500원',\n",
       " '36',\n",
       " '39',\n",
       " '3년',\n",
       " '3만',\n",
       " '3분',\n",
       " '3시',\n",
       " '3시간',\n",
       " '3월',\n",
       " '3일',\n",
       " '3회',\n",
       " '40',\n",
       " '4000원',\n",
       " '40년',\n",
       " '40분',\n",
       " '44',\n",
       " '444',\n",
       " '45',\n",
       " '4년',\n",
       " '4분',\n",
       " '4시간',\n",
       " '4월',\n",
       " '4일',\n",
       " '4천원',\n",
       " '4회',\n",
       " '50',\n",
       " '500',\n",
       " '500원',\n",
       " '50년',\n",
       " '50분',\n",
       " '55',\n",
       " '5년',\n",
       " '5분',\n",
       " '5월',\n",
       " '5위안',\n",
       " '5일',\n",
       " '60',\n",
       " '60년',\n",
       " '60분',\n",
       " '6년',\n",
       " '6회',\n",
       " '70',\n",
       " '70년',\n",
       " '70분',\n",
       " '79년',\n",
       " '7년',\n",
       " '7시',\n",
       " '7월',\n",
       " '80',\n",
       " '80년',\n",
       " '80분',\n",
       " '82년',\n",
       " '84년',\n",
       " '87년',\n",
       " '88',\n",
       " '88년',\n",
       " '89년',\n",
       " '8년',\n",
       " '8월',\n",
       " '8천원',\n",
       " '8회',\n",
       " '90',\n",
       " '90년',\n",
       " '90분',\n",
       " '911',\n",
       " '92년',\n",
       " '93년',\n",
       " '94년',\n",
       " '95년',\n",
       " '96년',\n",
       " '97년',\n",
       " '98',\n",
       " '98년',\n",
       " '99',\n",
       " '99년',\n",
       " '9년',\n",
       " '가가',\n",
       " '가게',\n",
       " '가격',\n",
       " '가고',\n",
       " '가고싶다',\n",
       " '가관',\n",
       " '가구',\n",
       " '가기',\n",
       " '가까',\n",
       " '가까운',\n",
       " '가까이',\n",
       " '가깝다',\n",
       " '가끔',\n",
       " '가나',\n",
       " '가나다',\n",
       " '가난',\n",
       " '가난한',\n",
       " '가네',\n",
       " '가네요',\n",
       " '가는',\n",
       " '가는거',\n",
       " '가는게',\n",
       " '가는데',\n",
       " '가는줄',\n",
       " '가는지',\n",
       " '가늠',\n",
       " '가능',\n",
       " '가능성',\n",
       " '가능하다',\n",
       " '가능한',\n",
       " '가능할까',\n",
       " '가능합니다',\n",
       " '가능했던',\n",
       " '가니',\n",
       " '가다',\n",
       " '가다가',\n",
       " '가닥',\n",
       " '가더',\n",
       " '가도',\n",
       " '가드',\n",
       " '가득',\n",
       " '가득하다',\n",
       " '가득한',\n",
       " '가든',\n",
       " '가라',\n",
       " '가레스',\n",
       " '가려진',\n",
       " '가르시아',\n",
       " '가르쳐',\n",
       " '가르침',\n",
       " '가를',\n",
       " '가리고',\n",
       " '가리지',\n",
       " '가만',\n",
       " '가만히',\n",
       " '가며',\n",
       " '가면',\n",
       " '가문',\n",
       " '가물가물',\n",
       " '가미',\n",
       " '가발',\n",
       " '가방',\n",
       " '가벼',\n",
       " '가벼운',\n",
       " '가볍게',\n",
       " '가볍고',\n",
       " '가볍지',\n",
       " '가볍지도',\n",
       " '가보',\n",
       " '가보고',\n",
       " '가보기엔',\n",
       " '가보네',\n",
       " '가본',\n",
       " '가볼',\n",
       " '가봐',\n",
       " '가봐도',\n",
       " '가봐요',\n",
       " '가봤던',\n",
       " '가사',\n",
       " '가상',\n",
       " '가서',\n",
       " '가선',\n",
       " '가세',\n",
       " '가수',\n",
       " '가스',\n",
       " '가슴',\n",
       " '가슴속',\n",
       " '가시',\n",
       " '가시노',\n",
       " '가시질',\n",
       " '가식',\n",
       " '가안',\n",
       " '가야',\n",
       " '가업',\n",
       " '가오',\n",
       " '가왜',\n",
       " '가요',\n",
       " '가운데',\n",
       " '가위',\n",
       " '가을',\n",
       " '가의',\n",
       " '가인',\n",
       " '가입',\n",
       " '가자',\n",
       " '가장',\n",
       " '가정',\n",
       " '가정부',\n",
       " '가져',\n",
       " '가져다',\n",
       " '가져다가',\n",
       " '가져다준',\n",
       " '가져야',\n",
       " '가졌던',\n",
       " '가족',\n",
       " '가족영화',\n",
       " '가죽',\n",
       " '가중',\n",
       " '가증',\n",
       " '가지',\n",
       " '가지가지',\n",
       " '가지는',\n",
       " '가진',\n",
       " '가질',\n",
       " '가질수',\n",
       " '가짜',\n",
       " '가차',\n",
       " '가출',\n",
       " '가치',\n",
       " '가치관',\n",
       " '가트',\n",
       " '가필드',\n",
       " '가하는',\n",
       " '가해',\n",
       " '가해자',\n",
       " '가히',\n",
       " '각각',\n",
       " '각도',\n",
       " '각본',\n",
       " '각본가',\n",
       " '각색',\n",
       " '각성',\n",
       " '각시탈',\n",
       " '각심',\n",
       " '각오',\n",
       " '각인',\n",
       " '각자',\n",
       " '각종',\n",
       " '간간히',\n",
       " '간과',\n",
       " '간다',\n",
       " '간단하게',\n",
       " '간단한',\n",
       " '간단히',\n",
       " '간데',\n",
       " '간디',\n",
       " '간만',\n",
       " '간수',\n",
       " '간신히',\n",
       " '간의',\n",
       " '간장',\n",
       " '간절히',\n",
       " '간접',\n",
       " '간지',\n",
       " '간직',\n",
       " '간첩',\n",
       " '간츠',\n",
       " '간판',\n",
       " '간호사',\n",
       " '간혹',\n",
       " '갇혀',\n",
       " '갇힌',\n",
       " '갈기',\n",
       " '갈까',\n",
       " '갈등',\n",
       " '갈리',\n",
       " '갈리는',\n",
       " '갈릴',\n",
       " '갈망',\n",
       " '갈비',\n",
       " '갈수',\n",
       " '갈수록',\n",
       " '갈아',\n",
       " '갈증',\n",
       " '갈팡질팡',\n",
       " '갈피',\n",
       " '감각',\n",
       " '감격',\n",
       " '감금',\n",
       " '감기',\n",
       " '감당',\n",
       " '감도',\n",
       " '감독',\n",
       " '감독판',\n",
       " '감동',\n",
       " '감명',\n",
       " '감방',\n",
       " '감사',\n",
       " '감사하게',\n",
       " '감사하고',\n",
       " '감사하다',\n",
       " '감사하며',\n",
       " '감사한',\n",
       " '감사한다',\n",
       " '감사할',\n",
       " '감사함을',\n",
       " '감사합니다',\n",
       " '감사해요',\n",
       " '감상',\n",
       " '감성',\n",
       " '감수',\n",
       " '감수성',\n",
       " '감안',\n",
       " '감옥',\n",
       " '감우성',\n",
       " '감은',\n",
       " '감있게',\n",
       " '감있고',\n",
       " '감있는',\n",
       " '감자',\n",
       " '감점',\n",
       " '감정',\n",
       " '감정이입',\n",
       " '감초',\n",
       " '감춰진',\n",
       " '감칠맛',\n",
       " '감탄',\n",
       " '감탄사',\n",
       " '감회',\n",
       " '감흥',\n",
       " '감히',\n",
       " '갑갑하다',\n",
       " '갑갑한',\n",
       " '갑니다',\n",
       " '갑다',\n",
       " '갑시다',\n",
       " '갑옷',\n",
       " '갑인듯',\n",
       " '갑자기',\n",
       " '갑작스런',\n",
       " '갑툭튀',\n",
       " '값진',\n",
       " '갓파더',\n",
       " '갔나',\n",
       " '갔네',\n",
       " '갔는데',\n",
       " '갔다',\n",
       " '갔다가',\n",
       " '갔다는',\n",
       " '갔던',\n",
       " '갔어',\n",
       " '갔었는데',\n",
       " '갔으면',\n",
       " '갔을',\n",
       " '갔음',\n",
       " '갔지만',\n",
       " '강간',\n",
       " '강간범',\n",
       " '강남',\n",
       " '강도',\n",
       " '강동원',\n",
       " '강력',\n",
       " '강력한',\n",
       " '강렬하게',\n",
       " '강렬하고',\n",
       " '강렬한',\n",
       " '강물',\n",
       " '강박',\n",
       " '강박증',\n",
       " '강소라',\n",
       " '강수연',\n",
       " '강시',\n",
       " '강아지',\n",
       " '강예원',\n",
       " '강요',\n",
       " '강용석',\n",
       " '강우석',\n",
       " '강원도',\n",
       " '강의',\n",
       " '강인',\n",
       " '강인한',\n",
       " '강정',\n",
       " '강제',\n",
       " '강조',\n",
       " '강지환',\n",
       " '강철',\n",
       " '강철중',\n",
       " '강추',\n",
       " '강츄',\n",
       " '강풀',\n",
       " '강하게',\n",
       " '강하고',\n",
       " '강하다',\n",
       " '강한',\n",
       " '강함',\n",
       " '강해서',\n",
       " '강혜정',\n",
       " '강호동',\n",
       " '갖게',\n",
       " '갖고',\n",
       " '갖는',\n",
       " '갖다',\n",
       " '갖은',\n",
       " '갖지',\n",
       " '갖추고',\n",
       " '갖춘',\n",
       " '같고',\n",
       " '같구',\n",
       " '같군',\n",
       " '같군요',\n",
       " '같기도',\n",
       " '같긴',\n",
       " '같긴한데',\n",
       " '같냐',\n",
       " '같네',\n",
       " '같네요',\n",
       " '같다',\n",
       " '같다고',\n",
       " '같다는',\n",
       " '같더라',\n",
       " '같던데',\n",
       " '같습니다',\n",
       " '같아',\n",
       " '같아도',\n",
       " '같아서',\n",
       " '같아여',\n",
       " '같아요',\n",
       " '같았고',\n",
       " '같았는데',\n",
       " '같았다',\n",
       " '같았던',\n",
       " '같았습니다',\n",
       " '같았어요',\n",
       " '같았음',\n",
       " '같았지만',\n",
       " '같어',\n",
       " '같으나',\n",
       " '같으니',\n",
       " '같으니라',\n",
       " '같으니라고',\n",
       " '같으면',\n",
       " '같으면서도',\n",
       " '같은',\n",
       " '같은거',\n",
       " '같은건',\n",
       " '같은걸',\n",
       " '같은것',\n",
       " '같은게',\n",
       " '같은데',\n",
       " '같은데요',\n",
       " '같을',\n",
       " '같음',\n",
       " '같이',\n",
       " '같잖은',\n",
       " '같지',\n",
       " '같지가',\n",
       " '같지도',\n",
       " '같지만',\n",
       " '같진',\n",
       " '개간',\n",
       " '개개인',\n",
       " '개구',\n",
       " '개구리',\n",
       " '개그',\n",
       " '개그맨',\n",
       " '개그콘서트',\n",
       " '개꿀잼',\n",
       " '개나줘',\n",
       " '개념',\n",
       " '개노답',\n",
       " '개는',\n",
       " '개답답',\n",
       " '개도',\n",
       " '개독',\n",
       " '개드립',\n",
       " '개떡',\n",
       " '개똥',\n",
       " '개막',\n",
       " '개망',\n",
       " '개망작',\n",
       " '개멋',\n",
       " '개못',\n",
       " '개무시',\n",
       " '개미',\n",
       " '개발',\n",
       " '개밥',\n",
       " '개방',\n",
       " '개봉',\n",
       " '개봉관',\n",
       " '개봉일',\n",
       " '개뿔',\n",
       " '개선',\n",
       " '개성',\n",
       " '개신교',\n",
       " '개연',\n",
       " '개오',\n",
       " '개월',\n",
       " '개인',\n",
       " '개입',\n",
       " '개재',\n",
       " '개잼',\n",
       " '개정',\n",
       " '개준다',\n",
       " '개지',\n",
       " '개쩌',\n",
       " '개쩜',\n",
       " '개차반',\n",
       " '개척',\n",
       " '개체',\n",
       " '개취',\n",
       " '개콘',\n",
       " '개판',\n",
       " '개폼',\n",
       " '객관',\n",
       " '갱스터',\n",
       " '거구',\n",
       " '거기',\n",
       " '거꾸로',\n",
       " '거나',\n",
       " '거늘',\n",
       " '거대',\n",
       " '거대한',\n",
       " '거도',\n",
       " '거든',\n",
       " '거든요',\n",
       " '거듭',\n",
       " '거란',\n",
       " '거래',\n",
       " '거려',\n",
       " '거론',\n",
       " '거리',\n",
       " '거림',\n",
       " '거만',\n",
       " '거물',\n",
       " '거뭐',\n",
       " '거미',\n",
       " '거볼',\n",
       " '거부',\n",
       " '거북',\n",
       " '거북이',\n",
       " '거북하다',\n",
       " '거북한',\n",
       " '거슬려',\n",
       " '거슬려서',\n",
       " '거슬리고',\n",
       " '거슬리는',\n",
       " '거슬린다',\n",
       " '거슬림',\n",
       " '거여',\n",
       " '거울',\n",
       " '거의',\n",
       " '거인',\n",
       " '거임',\n",
       " '거장',\n",
       " '거저',\n",
       " '거절',\n",
       " '거중',\n",
       " '거지',\n",
       " '거지같다',\n",
       " '거지같은',\n",
       " '거짓',\n",
       " '거짓말',\n",
       " '거참',\n",
       " '거창한',\n",
       " '거친',\n",
       " '거칠고',\n",
       " '거침',\n",
       " '거품',\n",
       " '걱정',\n",
       " '건가',\n",
       " '건강',\n",
       " '건강한',\n",
       " '건너',\n",
       " '건달',\n",
       " '건담',\n",
       " '건데',\n",
       " '건만',\n",
       " '건물',\n",
       " '건아',\n",
       " '건전한',\n",
       " '건졌다',\n",
       " '건조한',\n",
       " '건지',\n",
       " '건지는',\n",
       " '건진',\n",
       " '건질',\n",
       " '건질게',\n",
       " '건축',\n",
       " '걷고',\n",
       " '걷는',\n",
       " '걸고',\n",
       " '걸까',\n",
       " '걸레',\n",
       " '걸려',\n",
       " '걸려서',\n",
       " '걸렸다',\n",
       " '걸리게',\n",
       " '걸리는',\n",
       " '걸리는줄',\n",
       " '걸리면',\n",
       " '걸린',\n",
       " '걸릴',\n",
       " '걸릴것',\n",
       " '걸림',\n",
       " '걸어',\n",
       " '걸왜',\n",
       " '걸음',\n",
       " '걸이',\n",
       " '걸작',\n",
       " '걸쳐',\n",
       " '걸친',\n",
       " '검사',\n",
       " '검색',\n",
       " '검색어',\n",
       " '검술',\n",
       " '검은',\n",
       " '검증',\n",
       " '겁나',\n",
       " '겁나게',\n",
       " '겁난다',\n",
       " '겁내',\n",
       " '겁니다',\n",
       " '것임',\n",
       " '겉도',\n",
       " '겉멋',\n",
       " '게다',\n",
       " '게다가',\n",
       " '게리',\n",
       " '게머',\n",
       " '게뭐',\n",
       " '게살',\n",
       " '게속',\n",
       " '게스트',\n",
       " '게시판',\n",
       " '게왜',\n",
       " '게이',\n",
       " '게이물',\n",
       " '게이트',\n",
       " '게임',\n",
       " '게재',\n",
       " '겠네',\n",
       " '겠다',\n",
       " '겠다는',\n",
       " '겠어요',\n",
       " '겠죠',\n",
       " '겠지',\n",
       " '겠지만',\n",
       " '겨냥',\n",
       " '겨우',\n",
       " '겨울',\n",
       " '겨울왕국',\n",
       " '겨지지',\n",
       " '격감',\n",
       " '격인',\n",
       " '격전',\n",
       " '격정',\n",
       " '격추',\n",
       " '격투',\n",
       " '격투기',\n",
       " '격투씬',\n",
       " '격하',\n",
       " '겪는',\n",
       " '겪어',\n",
       " '겪은',\n",
       " '견디기',\n",
       " '견자단',\n",
       " '견줄만',\n",
       " '결과',\n",
       " '결과물',\n",
       " '결국',\n",
       " '결단',\n",
       " '결론',\n",
       " '결말',\n",
       " '결방',\n",
       " '결승전',\n",
       " '결심',\n",
       " '결여',\n",
       " '결재',\n",
       " '결정',\n",
       " '결제',\n",
       " '결코',\n",
       " '결투',\n",
       " '결핍',\n",
       " '결합',\n",
       " '결혼',\n",
       " '결혼식',\n",
       " '겸비',\n",
       " '경계',\n",
       " '경고',\n",
       " '경기',\n",
       " '경기도',\n",
       " '경력',\n",
       " '경비',\n",
       " '경상도',\n",
       " '경악',\n",
       " '경우',\n",
       " '경의',\n",
       " '경이',\n",
       " '경쟁',\n",
       " '경제',\n",
       " '경지',\n",
       " '경찰',\n",
       " '경찰서',\n",
       " '경치',\n",
       " '경쾌한',\n",
       " '경향',\n",
       " '경험',\n",
       " '계급',\n",
       " '계기',\n",
       " '계단',\n",
       " '계륜미',\n",
       " '계몽',\n",
       " '계보',\n",
       " '계속',\n",
       " '계승',\n",
       " '계시',\n",
       " '계약',\n",
       " '계절',\n",
       " '계층',\n",
       " '계획',\n",
       " '고가',\n",
       " '고간',\n",
       " '고갈',\n",
       " '고개',\n",
       " '고고',\n",
       " '고교',\n",
       " '고구마',\n",
       " '고군',\n",
       " '고급',\n",
       " '고기',\n",
       " '고난',\n",
       " '고뇌',\n",
       " '고니',\n",
       " '고다르',\n",
       " '고대',\n",
       " '고대로',\n",
       " '고도',\n",
       " '고독',\n",
       " '고든',\n",
       " '고등학교',\n",
       " '고등학생',\n",
       " '고딩',\n",
       " '고래',\n",
       " '고려',\n",
       " '고로',\n",
       " '고루',\n",
       " '고르는',\n",
       " '고른',\n",
       " '고리',\n",
       " '고리타분한',\n",
       " '고릴라',\n",
       " '고립',\n",
       " '고마',\n",
       " '고마운',\n",
       " '고마워',\n",
       " '고마워요',\n",
       " '고맙다',\n",
       " '고맙습니다',\n",
       " '고모',\n",
       " '고문',\n",
       " '고민',\n",
       " '고발',\n",
       " '고백',\n",
       " '고본',\n",
       " '고삐',\n",
       " '고사',\n",
       " '고생',\n",
       " '고서',\n",
       " '고소',\n",
       " '고소영',\n",
       " '고수',\n",
       " '고스',\n",
       " '고스톱',\n",
       " '고스트',\n",
       " '고시',\n",
       " '고아라',\n",
       " '고양이',\n",
       " '고어',\n",
       " '고어영화',\n",
       " '고역',\n",
       " '고요',\n",
       " '고유',\n",
       " '고은아',\n",
       " '고의',\n",
       " '고이',\n",
       " '고인',\n",
       " '고자',\n",
       " '고작',\n",
       " '고장',\n",
       " '고전',\n",
       " '고정',\n",
       " '고정관념',\n",
       " '고조',\n",
       " '고준희',\n",
       " '고증',\n",
       " '고질',\n",
       " '고질라',\n",
       " '고집',\n",
       " '고찰',\n",
       " '고창석',\n",
       " '고쳐',\n",
       " '고추',\n",
       " '고통',\n",
       " '고풍',\n",
       " '고픈',\n",
       " '고하',\n",
       " '고함',\n",
       " '고해',\n",
       " '고향',\n",
       " '고향이',\n",
       " '고현정',\n",
       " '고흐',\n",
       " '곤충',\n",
       " '골고루',\n",
       " '골드버그',\n",
       " '골든',\n",
       " '골든타임',\n",
       " '골라',\n",
       " '골로',\n",
       " '골빈',\n",
       " '곱니다',\n",
       " '곱씹게',\n",
       " '곱씹어',\n",
       " '곳곳',\n",
       " '공각기동대',\n",
       " '공간',\n",
       " '공감',\n",
       " '공개',\n",
       " '공격',\n",
       " '공군',\n",
       " '공권력',\n",
       " '공기',\n",
       " '공동',\n",
       " '공략',\n",
       " '공룡',\n",
       " '공리',\n",
       " '공무원',\n",
       " '공백',\n",
       " '공범',\n",
       " '공부',\n",
       " '공사',\n",
       " '공산당',\n",
       " '공산주의',\n",
       " '공상',\n",
       " '공식',\n",
       " '공연',\n",
       " '공원',\n",
       " '공유',\n",
       " '공이',\n",
       " '공익',\n",
       " '공자',\n",
       " '공장',\n",
       " '공존',\n",
       " '공주',\n",
       " '공중',\n",
       " '공중파',\n",
       " '공짜',\n",
       " '공통점',\n",
       " '공포',\n",
       " '공포물',\n",
       " '공포영화',\n",
       " '공항',\n",
       " '공허한',\n",
       " '공효진',\n",
       " '과감',\n",
       " '과거',\n",
       " '과극',\n",
       " '과대',\n",
       " '과도',\n",
       " '과분',\n",
       " '과소',\n",
       " '과시',\n",
       " '과언',\n",
       " '과연',\n",
       " '과욕',\n",
       " '과유',\n",
       " '과잉',\n",
       " '과자',\n",
       " '과장',\n",
       " '과정',\n",
       " '과제',\n",
       " '과학',\n",
       " '과학자',\n",
       " '곽경택',\n",
       " '곽부성',\n",
       " '곽지민',\n",
       " '관객',\n",
       " '관객수',\n",
       " '관계',\n",
       " '관계도',\n",
       " '관계없이',\n",
       " '관계자',\n",
       " '관광',\n",
       " '관념',\n",
       " '관능',\n",
       " '관대하다',\n",
       " '관도',\n",
       " '관람',\n",
       " '관람객',\n",
       " '관련',\n",
       " '관리',\n",
       " '관상',\n",
       " '관성',\n",
       " '관심',\n",
       " '관용',\n",
       " ...]"
      ]
     },
     "execution_count": 25,
     "metadata": {},
     "output_type": "execute_result"
    }
   ],
   "source": [
    "cv.get_feature_names()"
   ]
  },
  {
   "cell_type": "markdown",
   "metadata": {},
   "source": [
    "## 긍부정 예측 머신러닝 모델링"
   ]
  },
  {
   "cell_type": "code",
   "execution_count": 41,
   "metadata": {},
   "outputs": [
    {
     "data": {
      "text/plain": [
       "LogisticRegression(max_iter=1000)"
      ]
     },
     "execution_count": 41,
     "metadata": {},
     "output_type": "execute_result"
    }
   ],
   "source": [
    "from sklearn.linear_model import LogisticRegression\n",
    "\n",
    "lr = LogisticRegression(max_iter=1000)\n",
    "lr.fit(X_train_dtm, y_train)"
   ]
  },
  {
   "cell_type": "code",
   "execution_count": 42,
   "metadata": {},
   "outputs": [],
   "source": [
    "pred_train = lr.predict(X_train_dtm)\n",
    "pred_test = lr.predict(X_test_dtm)"
   ]
  },
  {
   "cell_type": "code",
   "execution_count": 43,
   "metadata": {},
   "outputs": [
    {
     "name": "stdout",
     "output_type": "stream",
     "text": [
      "Train 정확도: 0.8647288242941431, Test 정확도: 0.8275096505790347\n"
     ]
    }
   ],
   "source": [
    "from sklearn.metrics import accuracy_score\n",
    "\n",
    "print(f'Train 정확도: {accuracy_score(y_train, pred_train)}, Test 정확도: {accuracy_score(y_test, pred_test)}')"
   ]
  },
  {
   "cell_type": "markdown",
   "metadata": {},
   "source": [
    "## TF-IDF"
   ]
  },
  {
   "cell_type": "code",
   "execution_count": 29,
   "metadata": {},
   "outputs": [
    {
     "data": {
      "text/plain": [
       "TfidfVectorizer(max_features=10000)"
      ]
     },
     "execution_count": 29,
     "metadata": {},
     "output_type": "execute_result"
    }
   ],
   "source": [
    "from sklearn.feature_extraction.text import TfidfVectorizer\n",
    "\n",
    "tfidf = TfidfVectorizer(max_features=10000)\n",
    "tfidf.fit(X_train + X_test)"
   ]
  },
  {
   "cell_type": "code",
   "execution_count": 30,
   "metadata": {},
   "outputs": [],
   "source": [
    "X_train_tfidf = tfidf.transform(X_train)\n",
    "X_test_tfidf = tfidf.transform(X_test)"
   ]
  },
  {
   "cell_type": "code",
   "execution_count": 31,
   "metadata": {},
   "outputs": [
    {
     "data": {
      "text/plain": [
       "((149995, 10000), (49997, 10000))"
      ]
     },
     "execution_count": 31,
     "metadata": {},
     "output_type": "execute_result"
    }
   ],
   "source": [
    "X_train_tfidf.shape, X_test_tfidf.shape"
   ]
  },
  {
   "cell_type": "code",
   "execution_count": 32,
   "metadata": {},
   "outputs": [
    {
     "data": {
      "text/plain": [
       "array([[0., 0., 0., ..., 0., 0., 0.],\n",
       "       [0., 0., 0., ..., 0., 0., 0.]])"
      ]
     },
     "execution_count": 32,
     "metadata": {},
     "output_type": "execute_result"
    }
   ],
   "source": [
    "X_train_tfidf[:2].toarray()"
   ]
  },
  {
   "cell_type": "markdown",
   "metadata": {},
   "source": [
    "## 긍부정 예측 머신러닝 모델링 (with TF-IDF)"
   ]
  },
  {
   "cell_type": "markdown",
   "metadata": {},
   "source": [
    "### LogisticRegression"
   ]
  },
  {
   "cell_type": "code",
   "execution_count": 34,
   "metadata": {},
   "outputs": [
    {
     "data": {
      "text/plain": [
       "LogisticRegression(max_iter=1000)"
      ]
     },
     "execution_count": 34,
     "metadata": {},
     "output_type": "execute_result"
    }
   ],
   "source": [
    "lr2 = LogisticRegression(max_iter=1000)\n",
    "lr2.fit(X_train_tfidf, y_train)"
   ]
  },
  {
   "cell_type": "code",
   "execution_count": 35,
   "metadata": {},
   "outputs": [],
   "source": [
    "pred_train2 = lr.predict(X_train_tfidf)\n",
    "pred_test2 = lr.predict(X_test_tfidf)"
   ]
  },
  {
   "cell_type": "code",
   "execution_count": 37,
   "metadata": {},
   "outputs": [
    {
     "name": "stdout",
     "output_type": "stream",
     "text": [
      "Train 정확도: 0.8494949831661055, Test 정확도: 0.8258695521731304\n"
     ]
    }
   ],
   "source": [
    "print(f'Train 정확도: {accuracy_score(y_train, pred_train2)}, Test 정확도: {accuracy_score(y_test, pred_test2)}')"
   ]
  },
  {
   "cell_type": "markdown",
   "metadata": {},
   "source": [
    "### RandomForest"
   ]
  },
  {
   "cell_type": "code",
   "execution_count": 38,
   "metadata": {},
   "outputs": [
    {
     "data": {
      "text/plain": [
       "RandomForestClassifier(max_depth=3, n_estimators=500)"
      ]
     },
     "execution_count": 38,
     "metadata": {},
     "output_type": "execute_result"
    }
   ],
   "source": [
    "from sklearn.ensemble import RandomForestClassifier\n",
    "rf = RandomForestClassifier(n_estimators=500, max_depth=3)\n",
    "\n",
    "rf.fit(X_train_tfidf, y_train)"
   ]
  },
  {
   "cell_type": "code",
   "execution_count": 39,
   "metadata": {},
   "outputs": [],
   "source": [
    "pred_train3 = rf.predict(X_train_tfidf)\n",
    "pred_test3 = rf.predict(X_test_tfidf)"
   ]
  },
  {
   "cell_type": "code",
   "execution_count": 40,
   "metadata": {},
   "outputs": [
    {
     "name": "stdout",
     "output_type": "stream",
     "text": [
      "Train 정확도: 0.7195839861328711, Test 정확도: 0.7152229133748025\n"
     ]
    }
   ],
   "source": [
    "print(f'Train 정확도: {accuracy_score(y_train, pred_train3)}, Test 정확도: {accuracy_score(y_test, pred_test3)}')"
   ]
  },
  {
   "cell_type": "markdown",
   "metadata": {},
   "source": [
    "## Test"
   ]
  },
  {
   "cell_type": "code",
   "execution_count": 44,
   "metadata": {},
   "outputs": [
    {
     "data": {
      "text/plain": [
       "array([0])"
      ]
     },
     "execution_count": 44,
     "metadata": {},
     "output_type": "execute_result"
    }
   ],
   "source": [
    "tmp = cv.transform(['비추, 별론데?'])\n",
    "\n",
    "lr.predict(tmp.reshape(1,-1))  # 정답"
   ]
  },
  {
   "cell_type": "code",
   "execution_count": 45,
   "metadata": {},
   "outputs": [
    {
     "data": {
      "text/plain": [
       "array([0])"
      ]
     },
     "execution_count": 45,
     "metadata": {},
     "output_type": "execute_result"
    }
   ],
   "source": [
    "tmp2 = cv.transform(['개재밌다. 개추ㅇㅇ'])\n",
    "\n",
    "lr.predict(tmp2.reshape(1,-1))  # 오답"
   ]
  },
  {
   "cell_type": "code",
   "execution_count": 46,
   "metadata": {},
   "outputs": [
    {
     "data": {
      "text/plain": [
       "array([1])"
      ]
     },
     "execution_count": 46,
     "metadata": {},
     "output_type": "execute_result"
    }
   ],
   "source": [
    "tmp3 = cv.transform(['좋은 영화..추천합니다!'])\n",
    "\n",
    "lr.predict(tmp3.reshape(1,-1))  # 정답"
   ]
  },
  {
   "cell_type": "code",
   "execution_count": 47,
   "metadata": {},
   "outputs": [
    {
     "data": {
      "text/plain": [
       "array([1])"
      ]
     },
     "execution_count": 47,
     "metadata": {},
     "output_type": "execute_result"
    }
   ],
   "source": [
    "tmp4 = cv.transform(['이딴 영화 돈주고 안본다ㅗㅗㅗㅗ 돈아까운 영화 베스트 1'])\n",
    "\n",
    "lr.predict(tmp4.reshape(1,-1))  # 오답"
   ]
  },
  {
   "cell_type": "code",
   "execution_count": null,
   "metadata": {},
   "outputs": [],
   "source": []
  },
  {
   "cell_type": "code",
   "execution_count": null,
   "metadata": {},
   "outputs": [],
   "source": []
  },
  {
   "cell_type": "markdown",
   "metadata": {},
   "source": [
    "# 방법 2"
   ]
  },
  {
   "cell_type": "markdown",
   "metadata": {},
   "source": [
    "## 텍스트 전처리"
   ]
  },
  {
   "cell_type": "code",
   "execution_count": 28,
   "metadata": {},
   "outputs": [],
   "source": [
    "import string, re\n",
    "from konlpy.tag import Okt\n",
    "\n",
    "def t_preprocessing(doc):\n",
    "    \"\"\"doc: 댓글 하나\"\"\"\n",
    "    okt = Okt()\n",
    "    \n",
    "    # 특수문자 제거\n",
    "    pattern = f'[{string.punctuation}]'  # pattern: '!\"#$%&\\'()*+,-./:;<=>?@[\\\\]^_`{|}~'\n",
    "    doc = re.sub(pattern, ' ', doc)  # doc에서 pattern의 문자들을 제거\n",
    "    \n",
    "    # 형태소 토큰화\n",
    "    tokens = okt.morphs(doc, norm = True)\n",
    "    \n",
    "    # 불용어 제거\n",
    "    \n",
    "    \n",
    "    return ' '.join(tokens)"
   ]
  },
  {
   "cell_type": "code",
   "execution_count": 29,
   "metadata": {},
   "outputs": [
    {
     "data": {
      "text/plain": [
       "0                                       아 더빙.. 진짜 짜증나네요 목소리\n",
       "1                         흠...포스터보고 초딩영화줄....오버연기조차 가볍지 않구나\n",
       "2                                         너무재밓었다그래서보는것을추천한다\n",
       "3                             교도소 이야기구먼 ..솔직히 재미는 없다..평점 조정\n",
       "4         사이몬페그의 익살스런 연기가 돋보였던 영화!스파이더맨에서 늙어보이기만 했던 커스틴 ...\n",
       "                                ...                        \n",
       "149990                                  인간이 문제지.. 소는 뭔죄인가..\n",
       "149991                                        평점이 너무 낮아서...\n",
       "149992                      이게 뭐요? 한국인은 거들먹거리고 필리핀 혼혈은 착하다?\n",
       "149993                          청춘 영화의 최고봉.방황과 우울했던 날들의 자화상\n",
       "149994                             한국 영화 최초로 수간하는 내용이 담긴 영화\n",
       "Name: document, Length: 149995, dtype: object"
      ]
     },
     "execution_count": 29,
     "metadata": {},
     "output_type": "execute_result"
    }
   ],
   "source": [
    "ratings_train['document']"
   ]
  },
  {
   "cell_type": "code",
   "execution_count": 30,
   "metadata": {},
   "outputs": [
    {
     "data": {
      "text/plain": [
       "'아 더빙 진짜 짜증나네요 목소리'"
      ]
     },
     "execution_count": 30,
     "metadata": {},
     "output_type": "execute_result"
    }
   ],
   "source": [
    "t_preprocessing(ratings_train.loc[0, 'document'])"
   ]
  },
  {
   "cell_type": "code",
   "execution_count": 31,
   "metadata": {},
   "outputs": [],
   "source": [
    "X_train = ratings_train['document'].apply(t_preprocessing)\n",
    "X_test = ratings_test['document'].apply(t_preprocessing)"
   ]
  },
  {
   "cell_type": "code",
   "execution_count": 32,
   "metadata": {},
   "outputs": [],
   "source": [
    "y_train = ratings_train['label']\n",
    "y_test = ratings_test['label']"
   ]
  },
  {
   "cell_type": "code",
   "execution_count": 33,
   "metadata": {},
   "outputs": [
    {
     "data": {
      "text/plain": [
       "((149995,), (49997,))"
      ]
     },
     "execution_count": 33,
     "metadata": {},
     "output_type": "execute_result"
    }
   ],
   "source": [
    "X_train.shape, X_test.shape"
   ]
  },
  {
   "cell_type": "markdown",
   "metadata": {},
   "source": [
    "## Feature Vectorization"
   ]
  },
  {
   "cell_type": "code",
   "execution_count": 34,
   "metadata": {},
   "outputs": [
    {
     "data": {
      "text/plain": [
       "(199992,)"
      ]
     },
     "execution_count": 34,
     "metadata": {},
     "output_type": "execute_result"
    }
   ],
   "source": [
    "data = pd.concat([X_train, X_test])\n",
    "data.shape"
   ]
  },
  {
   "cell_type": "code",
   "execution_count": 35,
   "metadata": {},
   "outputs": [
    {
     "data": {
      "text/plain": [
       "0                                    아 더빙 진짜 짜증나네요 목소리\n",
       "1                    흠 포스터 보고 초딩 영화 줄 오버 연기 조차 가볍지 않구나\n",
       "2                            너 무재 밓었 다그 래서 보는것을 추천 한 다\n",
       "3                         교도소 이야기 구먼 솔직히 재미 는 없다 평점 조정\n",
       "4    사이 몬페 그 의 익살스런 연기 가 돋보였던 영화 스파이더맨 에서 늙어 보이기만 했...\n",
       "Name: document, dtype: object"
      ]
     },
     "execution_count": 35,
     "metadata": {},
     "output_type": "execute_result"
    }
   ],
   "source": [
    "data.head()"
   ]
  },
  {
   "cell_type": "code",
   "execution_count": 36,
   "metadata": {},
   "outputs": [],
   "source": [
    "from sklearn.feature_extraction.text import CountVectorizer, TfidfVectorizer"
   ]
  },
  {
   "cell_type": "code",
   "execution_count": null,
   "metadata": {},
   "outputs": [],
   "source": [
    "# cv = CountVectorizer(min_df = 10)\n",
    "cv = CountVectorizer(min_df = 10, ngram_range=(1,3))\n",
    "cv.fit(data)\n",
    "train_cv = cv.transform(X_train)\n",
    "test_cv = cv.transform(X_test)"
   ]
  },
  {
   "cell_type": "code",
   "execution_count": null,
   "metadata": {},
   "outputs": [],
   "source": [
    "train_cv.shape, test_cv.shape"
   ]
  },
  {
   "cell_type": "code",
   "execution_count": null,
   "metadata": {},
   "outputs": [],
   "source": [
    "# tfidf = TfidfVectorizer(min_df = 10)\n",
    "tfidf = TfidfVectorizer(min_df = 10, ngram_range=(1,3))\n",
    "tfidf.fit(data)\n",
    "train_tfidf = tfidf.transform(X_train)\n",
    "test_tfidf = tfidf.transform(X_test)"
   ]
  },
  {
   "cell_type": "code",
   "execution_count": null,
   "metadata": {},
   "outputs": [],
   "source": [
    "train_tfidf.shape, test_tfidf.shape"
   ]
  },
  {
   "cell_type": "markdown",
   "metadata": {},
   "source": [
    "## 긍부정 예측 머신러닝 모델링"
   ]
  },
  {
   "cell_type": "code",
   "execution_count": null,
   "metadata": {},
   "outputs": [],
   "source": [
    "from sklearn.linear_model import LogisticRegression\n",
    "\n",
    "lr = LogisticRegression(max_iter=1000, random_state=1)\n",
    "lr.fit(train_cv, y_train)"
   ]
  },
  {
   "cell_type": "code",
   "execution_count": null,
   "metadata": {},
   "outputs": [],
   "source": [
    "pred_train = lr.predict(train_cv)\n",
    "pred_test = lr.predict(test_cv)"
   ]
  },
  {
   "cell_type": "code",
   "execution_count": null,
   "metadata": {},
   "outputs": [],
   "source": [
    "from sklearn.metrics import accuracy_score\n",
    "\n",
    "accuracy_score(y_train, pred_train), accuracy_score(y_test, pred_test)"
   ]
  },
  {
   "cell_type": "code",
   "execution_count": null,
   "metadata": {},
   "outputs": [],
   "source": []
  },
  {
   "cell_type": "code",
   "execution_count": null,
   "metadata": {},
   "outputs": [],
   "source": [
    "lr2 = LogisticRegression(max_iter=1000, random_state=1)\n",
    "lr2.fit(train_tfidf, y_train)"
   ]
  },
  {
   "cell_type": "code",
   "execution_count": null,
   "metadata": {},
   "outputs": [],
   "source": [
    "pred_train2 = lr2.predict(train_tfidf)\n",
    "pred_test2 = lr2.predict(test_tfidf)"
   ]
  },
  {
   "cell_type": "code",
   "execution_count": null,
   "metadata": {},
   "outputs": [],
   "source": [
    "accuracy_score(y_train, pred_train2), accuracy_score(y_test, pred_test2)"
   ]
  },
  {
   "cell_type": "markdown",
   "metadata": {},
   "source": [
    "- cv\n",
    "    - 0.8715490516350545, 0.8329299757985479\n",
    "    - 0.892423080769359, 0.8381302878172691    (ngram_range=(1,3))\n",
    "- tf-idf\n",
    "    - 0.8639354645154839, 0.8356701402084125\n",
    "    - 0.8751825060835361, 0.842270536232174    (ngram_range=(1,3))"
   ]
  }
 ],
 "metadata": {
  "kernelspec": {
   "display_name": "Python 3",
   "language": "python",
   "name": "python3"
  },
  "language_info": {
   "codemirror_mode": {
    "name": "ipython",
    "version": 3
   },
   "file_extension": ".py",
   "mimetype": "text/x-python",
   "name": "python",
   "nbconvert_exporter": "python",
   "pygments_lexer": "ipython3",
   "version": "3.6.5"
  },
  "toc": {
   "base_numbering": 1,
   "nav_menu": {},
   "number_sections": false,
   "sideBar": true,
   "skip_h1_title": false,
   "title_cell": "Table of Contents",
   "title_sidebar": "Contents",
   "toc_cell": false,
   "toc_position": {},
   "toc_section_display": true,
   "toc_window_display": false
  },
  "varInspector": {
   "cols": {
    "lenName": 16,
    "lenType": 16,
    "lenVar": 40
   },
   "kernels_config": {
    "python": {
     "delete_cmd_postfix": "",
     "delete_cmd_prefix": "del ",
     "library": "var_list.py",
     "varRefreshCmd": "print(var_dic_list())"
    },
    "r": {
     "delete_cmd_postfix": ") ",
     "delete_cmd_prefix": "rm(",
     "library": "var_list.r",
     "varRefreshCmd": "cat(var_dic_list()) "
    }
   },
   "types_to_exclude": [
    "module",
    "function",
    "builtin_function_or_method",
    "instance",
    "_Feature"
   ],
   "window_display": false
  }
 },
 "nbformat": 4,
 "nbformat_minor": 2
}
