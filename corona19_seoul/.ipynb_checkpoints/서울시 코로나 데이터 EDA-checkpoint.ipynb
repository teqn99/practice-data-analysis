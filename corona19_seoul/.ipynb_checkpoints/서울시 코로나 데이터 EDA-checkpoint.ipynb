{
 "cells": [
  {
   "cell_type": "code",
   "execution_count": 1,
   "metadata": {},
   "outputs": [],
   "source": [
    "import numpy as np\n",
    "import pandas as pd\n",
    "import matplotlib.pyplot as plt\n",
    "from matplotlib import rc\n",
    "import seaborn as sns\n",
    "%matplotlib inline\n",
    "\n",
    "rc('font', family='AppleGothic')\n",
    "plt.rcParams['axes.unicode_minus'] = False"
   ]
  },
  {
   "cell_type": "markdown",
   "metadata": {},
   "source": [
    "# 데이터 파일 읽기\n",
    "\n",
    "- [서울시 코로나19 확진자 현황](http://data.seoul.go.kr/dataList/OA-20279/S/1/datasetView.do)\n",
    "## 컬럼\n",
    "- ID : 확진자 ID. 발생순서대로 1씩증가하는 값\n",
    "- 확진일: 확진 날짜\n",
    "- 자치구: 확진 결과를 받은 지역구.\n",
    "- 여행력: 해외유입의 경우 국가명\n",
    "- 접촉력: 감염된 경로. \n",
    "- 현재상태: 퇴원, 사망, NA: 치료중"
   ]
  },
  {
   "cell_type": "code",
   "execution_count": 47,
   "metadata": {},
   "outputs": [
    {
     "data": {
      "text/html": [
       "<div>\n",
       "<style scoped>\n",
       "    .dataframe tbody tr th:only-of-type {\n",
       "        vertical-align: middle;\n",
       "    }\n",
       "\n",
       "    .dataframe tbody tr th {\n",
       "        vertical-align: top;\n",
       "    }\n",
       "\n",
       "    .dataframe thead th {\n",
       "        text-align: right;\n",
       "    }\n",
       "</style>\n",
       "<table border=\"1\" class=\"dataframe\">\n",
       "  <thead>\n",
       "    <tr style=\"text-align: right;\">\n",
       "      <th></th>\n",
       "      <th>ID</th>\n",
       "      <th>확진일</th>\n",
       "      <th>자치구</th>\n",
       "      <th>여행력</th>\n",
       "      <th>접촉력</th>\n",
       "      <th>현재상태</th>\n",
       "    </tr>\n",
       "  </thead>\n",
       "  <tbody>\n",
       "    <tr>\n",
       "      <th>0</th>\n",
       "      <td>30061</td>\n",
       "      <td>2021-03-14</td>\n",
       "      <td>동대문구</td>\n",
       "      <td>NaN</td>\n",
       "      <td>동대문구 소재 병원 관련(\\'21.2.)</td>\n",
       "      <td>사망</td>\n",
       "    </tr>\n",
       "    <tr>\n",
       "      <th>1</th>\n",
       "      <td>30060</td>\n",
       "      <td>2021-03-14</td>\n",
       "      <td>강동구</td>\n",
       "      <td>NaN</td>\n",
       "      <td>감염경로 조사중</td>\n",
       "      <td>NaN</td>\n",
       "    </tr>\n",
       "    <tr>\n",
       "      <th>2</th>\n",
       "      <td>30059</td>\n",
       "      <td>2021-03-14</td>\n",
       "      <td>타시도</td>\n",
       "      <td>NaN</td>\n",
       "      <td>관악구 소재 미용업 관련</td>\n",
       "      <td>NaN</td>\n",
       "    </tr>\n",
       "    <tr>\n",
       "      <th>3</th>\n",
       "      <td>30058</td>\n",
       "      <td>2021-03-14</td>\n",
       "      <td>마포구</td>\n",
       "      <td>NaN</td>\n",
       "      <td>감염경로 조사중</td>\n",
       "      <td>NaN</td>\n",
       "    </tr>\n",
       "    <tr>\n",
       "      <th>4</th>\n",
       "      <td>30057</td>\n",
       "      <td>2021-03-14</td>\n",
       "      <td>서대문구</td>\n",
       "      <td>NaN</td>\n",
       "      <td>타시도 확진자 접촉</td>\n",
       "      <td>NaN</td>\n",
       "    </tr>\n",
       "    <tr>\n",
       "      <th>...</th>\n",
       "      <td>...</td>\n",
       "      <td>...</td>\n",
       "      <td>...</td>\n",
       "      <td>...</td>\n",
       "      <td>...</td>\n",
       "      <td>...</td>\n",
       "    </tr>\n",
       "    <tr>\n",
       "      <th>30056</th>\n",
       "      <td>5</td>\n",
       "      <td>2020-01-31</td>\n",
       "      <td>마포구</td>\n",
       "      <td>NaN</td>\n",
       "      <td>기타 확진자 접촉</td>\n",
       "      <td>퇴원</td>\n",
       "    </tr>\n",
       "    <tr>\n",
       "      <th>30057</th>\n",
       "      <td>4</td>\n",
       "      <td>2020-01-30</td>\n",
       "      <td>종로구</td>\n",
       "      <td>중국</td>\n",
       "      <td>해외유입</td>\n",
       "      <td>퇴원</td>\n",
       "    </tr>\n",
       "    <tr>\n",
       "      <th>30058</th>\n",
       "      <td>3</td>\n",
       "      <td>2020-01-30</td>\n",
       "      <td>중랑구</td>\n",
       "      <td>NaN</td>\n",
       "      <td>종로구 집단발병</td>\n",
       "      <td>퇴원</td>\n",
       "    </tr>\n",
       "    <tr>\n",
       "      <th>30059</th>\n",
       "      <td>2</td>\n",
       "      <td>2020-01-30</td>\n",
       "      <td>강서구</td>\n",
       "      <td>중국</td>\n",
       "      <td>해외유입</td>\n",
       "      <td>퇴원</td>\n",
       "    </tr>\n",
       "    <tr>\n",
       "      <th>30060</th>\n",
       "      <td>1</td>\n",
       "      <td>2020-01-24</td>\n",
       "      <td>강서구</td>\n",
       "      <td>중국</td>\n",
       "      <td>해외유입</td>\n",
       "      <td>퇴원</td>\n",
       "    </tr>\n",
       "  </tbody>\n",
       "</table>\n",
       "<p>30061 rows × 6 columns</p>\n",
       "</div>"
      ],
      "text/plain": [
       "          ID         확진일   자치구  여행력                     접촉력 현재상태\n",
       "0      30061  2021-03-14  동대문구  NaN  동대문구 소재 병원 관련(\\'21.2.)   사망\n",
       "1      30060  2021-03-14   강동구  NaN                감염경로 조사중  NaN\n",
       "2      30059  2021-03-14   타시도  NaN           관악구 소재 미용업 관련  NaN\n",
       "3      30058  2021-03-14   마포구  NaN                감염경로 조사중  NaN\n",
       "4      30057  2021-03-14  서대문구  NaN              타시도 확진자 접촉  NaN\n",
       "...      ...         ...   ...  ...                     ...  ...\n",
       "30056      5  2020-01-31   마포구  NaN               기타 확진자 접촉   퇴원\n",
       "30057      4  2020-01-30   종로구   중국                    해외유입   퇴원\n",
       "30058      3  2020-01-30   중랑구  NaN                종로구 집단발병   퇴원\n",
       "30059      2  2020-01-30   강서구   중국                    해외유입   퇴원\n",
       "30060      1  2020-01-24   강서구   중국                    해외유입   퇴원\n",
       "\n",
       "[30061 rows x 6 columns]"
      ]
     },
     "execution_count": 47,
     "metadata": {},
     "output_type": "execute_result"
    }
   ],
   "source": [
    "corona = pd.read_csv('data/corona19_seoul_2021-03-15.csv')\n",
    "corona"
   ]
  },
  {
   "cell_type": "code",
   "execution_count": null,
   "metadata": {},
   "outputs": [],
   "source": []
  },
  {
   "cell_type": "markdown",
   "metadata": {},
   "source": [
    "# DataFrame 기본정보 조회"
   ]
  },
  {
   "cell_type": "code",
   "execution_count": 48,
   "metadata": {},
   "outputs": [
    {
     "name": "stdout",
     "output_type": "stream",
     "text": [
      "<class 'pandas.core.frame.DataFrame'>\n",
      "RangeIndex: 30061 entries, 0 to 30060\n",
      "Data columns (total 6 columns):\n",
      " #   Column  Non-Null Count  Dtype \n",
      "---  ------  --------------  ----- \n",
      " 0   ID      30061 non-null  int64 \n",
      " 1   확진일     30061 non-null  object\n",
      " 2   자치구     30061 non-null  object\n",
      " 3   여행력     976 non-null    object\n",
      " 4   접촉력     30061 non-null  object\n",
      " 5   현재상태    27143 non-null  object\n",
      "dtypes: int64(1), object(5)\n",
      "memory usage: 1.4+ MB\n"
     ]
    }
   ],
   "source": [
    "corona.info()"
   ]
  },
  {
   "cell_type": "code",
   "execution_count": 49,
   "metadata": {},
   "outputs": [
    {
     "data": {
      "text/plain": [
       "ID          0\n",
       "확진일         0\n",
       "자치구         0\n",
       "여행력     29085\n",
       "접촉력         0\n",
       "현재상태     2918\n",
       "dtype: int64"
      ]
     },
     "execution_count": 49,
     "metadata": {},
     "output_type": "execute_result"
    }
   ],
   "source": [
    "corona.isna().sum()"
   ]
  },
  {
   "cell_type": "code",
   "execution_count": 4,
   "metadata": {},
   "outputs": [
    {
     "data": {
      "text/html": [
       "<div>\n",
       "<style scoped>\n",
       "    .dataframe tbody tr th:only-of-type {\n",
       "        vertical-align: middle;\n",
       "    }\n",
       "\n",
       "    .dataframe tbody tr th {\n",
       "        vertical-align: top;\n",
       "    }\n",
       "\n",
       "    .dataframe thead th {\n",
       "        text-align: right;\n",
       "    }\n",
       "</style>\n",
       "<table border=\"1\" class=\"dataframe\">\n",
       "  <thead>\n",
       "    <tr style=\"text-align: right;\">\n",
       "      <th></th>\n",
       "      <th>확진일</th>\n",
       "      <th>자치구</th>\n",
       "      <th>여행력</th>\n",
       "      <th>접촉력</th>\n",
       "      <th>현재상태</th>\n",
       "    </tr>\n",
       "  </thead>\n",
       "  <tbody>\n",
       "    <tr>\n",
       "      <th>count</th>\n",
       "      <td>30061</td>\n",
       "      <td>30061</td>\n",
       "      <td>976</td>\n",
       "      <td>30061</td>\n",
       "      <td>27143</td>\n",
       "    </tr>\n",
       "    <tr>\n",
       "      <th>unique</th>\n",
       "      <td>384</td>\n",
       "      <td>27</td>\n",
       "      <td>120</td>\n",
       "      <td>512</td>\n",
       "      <td>2</td>\n",
       "    </tr>\n",
       "    <tr>\n",
       "      <th>top</th>\n",
       "      <td>2020-12-17</td>\n",
       "      <td>기타</td>\n",
       "      <td>미국</td>\n",
       "      <td>기타 확진자 접촉</td>\n",
       "      <td>퇴원</td>\n",
       "    </tr>\n",
       "    <tr>\n",
       "      <th>freq</th>\n",
       "      <td>588</td>\n",
       "      <td>2000</td>\n",
       "      <td>329</td>\n",
       "      <td>9660</td>\n",
       "      <td>26738</td>\n",
       "    </tr>\n",
       "  </tbody>\n",
       "</table>\n",
       "</div>"
      ],
      "text/plain": [
       "               확진일    자치구  여행력        접촉력   현재상태\n",
       "count        30061  30061  976      30061  27143\n",
       "unique         384     27  120        512      2\n",
       "top     2020-12-17     기타   미국  기타 확진자 접촉     퇴원\n",
       "freq           588   2000  329       9660  26738"
      ]
     },
     "execution_count": 4,
     "metadata": {},
     "output_type": "execute_result"
    }
   ],
   "source": [
    "corona.describe(include = 'object')"
   ]
  },
  {
   "cell_type": "code",
   "execution_count": 5,
   "metadata": {},
   "outputs": [
    {
     "data": {
      "text/plain": [
       "Index(['ID', '확진일', '자치구', '여행력', '접촉력', '현재상태'], dtype='object')"
      ]
     },
     "execution_count": 5,
     "metadata": {},
     "output_type": "execute_result"
    }
   ],
   "source": [
    "corona.columns"
   ]
  },
  {
   "cell_type": "code",
   "execution_count": 6,
   "metadata": {},
   "outputs": [
    {
     "data": {
      "text/plain": [
       "array([[30061, '2021-03-14', '동대문구', nan, \"동대문구 소재 병원 관련(\\\\'21.2.)\",\n",
       "        '사망'],\n",
       "       [30060, '2021-03-14', '강동구', nan, '감염경로 조사중', nan],\n",
       "       [30059, '2021-03-14', '타시도', nan, '관악구 소재 미용업 관련', nan],\n",
       "       ...,\n",
       "       [3, '2020-01-30', '중랑구', nan, '종로구 집단발병', '퇴원'],\n",
       "       [2, '2020-01-30', '강서구', '중국', '해외유입', '퇴원'],\n",
       "       [1, '2020-01-24', '강서구', '중국', '해외유입', '퇴원']], dtype=object)"
      ]
     },
     "execution_count": 6,
     "metadata": {},
     "output_type": "execute_result"
    }
   ],
   "source": [
    "corona.values"
   ]
  },
  {
   "cell_type": "code",
   "execution_count": null,
   "metadata": {},
   "outputs": [],
   "source": []
  },
  {
   "cell_type": "markdown",
   "metadata": {},
   "source": [
    "##  범주형 컬럼들의 고유값들 조회"
   ]
  },
  {
   "cell_type": "code",
   "execution_count": 7,
   "metadata": {},
   "outputs": [
    {
     "data": {
      "text/plain": [
       "기타      2000\n",
       "강서구     1704\n",
       "송파구     1658\n",
       "타시도     1413\n",
       "관악구     1408\n",
       "강남구     1376\n",
       "노원구     1322\n",
       "성북구     1298\n",
       "은평구     1262\n",
       "중랑구     1250\n",
       "동작구     1238\n",
       "서초구     1148\n",
       "양천구     1144\n",
       "영등포구    1122\n",
       "구로구     1094\n",
       "동대문구    1087\n",
       "강동구     1036\n",
       "마포구      990\n",
       "도봉구      954\n",
       "광진구      876\n",
       "용산구      815\n",
       "서대문구     786\n",
       "강북구      785\n",
       "성동구      763\n",
       "종로구      579\n",
       "금천구      478\n",
       "중구       475\n",
       "Name: 자치구, dtype: int64"
      ]
     },
     "execution_count": 7,
     "metadata": {},
     "output_type": "execute_result"
    }
   ],
   "source": [
    "corona['자치구'].value_counts()"
   ]
  },
  {
   "cell_type": "code",
   "execution_count": 8,
   "metadata": {},
   "outputs": [
    {
     "data": {
      "text/plain": [
       "퇴원    26738\n",
       "사망      405\n",
       "Name: 현재상태, dtype: int64"
      ]
     },
     "execution_count": 8,
     "metadata": {},
     "output_type": "execute_result"
    }
   ],
   "source": [
    "corona['현재상태'].value_counts()"
   ]
  },
  {
   "cell_type": "code",
   "execution_count": null,
   "metadata": {},
   "outputs": [],
   "source": []
  },
  {
   "cell_type": "code",
   "execution_count": null,
   "metadata": {},
   "outputs": [],
   "source": []
  },
  {
   "cell_type": "markdown",
   "metadata": {},
   "source": [
    "# 확진일 확진자수 정보 조회"
   ]
  },
  {
   "cell_type": "markdown",
   "metadata": {
    "ExecuteTime": {
     "end_time": "2021-03-10T10:40:05.771434Z",
     "start_time": "2021-03-10T10:40:05.742438Z"
    }
   },
   "source": [
    "## 확진일의 빈도수"
   ]
  },
  {
   "cell_type": "code",
   "execution_count": 9,
   "metadata": {},
   "outputs": [
    {
     "data": {
      "text/plain": [
       "2020-12-17    588\n",
       "2020-12-24    566\n",
       "2020-12-28    524\n",
       "2020-12-25    430\n",
       "2020-12-16    427\n",
       "             ... \n",
       "2020-05-01      1\n",
       "2020-01-24      1\n",
       "2020-03-05      1\n",
       "2020-04-15      1\n",
       "2020-04-19      1\n",
       "Name: 확진일, Length: 384, dtype: int64"
      ]
     },
     "execution_count": 9,
     "metadata": {},
     "output_type": "execute_result"
    }
   ],
   "source": [
    "corona['확진일'].value_counts()"
   ]
  },
  {
   "cell_type": "code",
   "execution_count": null,
   "metadata": {},
   "outputs": [],
   "source": []
  },
  {
   "cell_type": "markdown",
   "metadata": {},
   "source": [
    "> ### datetime으로 변환\n",
    "> - `pd.to_datetime(변환할 Series)`\n",
    "> - x 또는 y 축이 날짜 일 경우 datetime 타입으로 처리하는 것이 좋다.\n",
    "> - datetime을 변환하면 날짜만의 기능을 다룰 수 있다.\n",
    ">     - dt accessor를 이용해 datetime의 속성값들을(년, 월, 일 등) 추출할 수 있다.\n",
    ">     - https://pandas.pydata.org/pandas-docs/stable/reference/api/pandas.Series.dt.html"
   ]
  },
  {
   "cell_type": "markdown",
   "metadata": {
    "ExecuteTime": {
     "end_time": "2021-03-11T05:05:25.449264Z",
     "start_time": "2021-03-11T05:05:25.433269Z"
    }
   },
   "source": [
    "## 확진일을 datetime으로 변환"
   ]
  },
  {
   "cell_type": "code",
   "execution_count": 50,
   "metadata": {},
   "outputs": [
    {
     "name": "stdout",
     "output_type": "stream",
     "text": [
      "<class 'pandas.core.frame.DataFrame'>\n",
      "RangeIndex: 30061 entries, 0 to 30060\n",
      "Data columns (total 6 columns):\n",
      " #   Column  Non-Null Count  Dtype         \n",
      "---  ------  --------------  -----         \n",
      " 0   ID      30061 non-null  int64         \n",
      " 1   확진일     30061 non-null  datetime64[ns]\n",
      " 2   자치구     30061 non-null  object        \n",
      " 3   여행력     976 non-null    object        \n",
      " 4   접촉력     30061 non-null  object        \n",
      " 5   현재상태    27143 non-null  object        \n",
      "dtypes: datetime64[ns](1), int64(1), object(4)\n",
      "memory usage: 1.4+ MB\n"
     ]
    }
   ],
   "source": [
    "corona['확진일'] = pd.to_datetime(corona['확진일'])# , format = '%Y%m%d')\n",
    "corona.info()"
   ]
  },
  {
   "cell_type": "code",
   "execution_count": null,
   "metadata": {},
   "outputs": [],
   "source": []
  },
  {
   "cell_type": "markdown",
   "metadata": {
    "ExecuteTime": {
     "end_time": "2021-03-10T10:40:10.759659Z",
     "start_time": "2021-03-10T10:40:10.731664Z"
    }
   },
   "source": [
    "## 확진일 관련 파생변수 추가\n",
    "- 확진일에서 년을 추출해서 **'년'** 컬럼을 생성\n",
    "- 확진일에서 월을 추출해서 **'월'** 컬럼을 생성\n",
    "- 확진일에서 주(1년 중 몇번째 주)를 추출해서 **'주'** 컬럼을 생성\n",
    "- 확진일에서 요일을 추출해서 **'요일'** 컬럼을 생성. "
   ]
  },
  {
   "cell_type": "code",
   "execution_count": 95,
   "metadata": {},
   "outputs": [
    {
     "data": {
      "text/html": [
       "<div>\n",
       "<style scoped>\n",
       "    .dataframe tbody tr th:only-of-type {\n",
       "        vertical-align: middle;\n",
       "    }\n",
       "\n",
       "    .dataframe tbody tr th {\n",
       "        vertical-align: top;\n",
       "    }\n",
       "\n",
       "    .dataframe thead th {\n",
       "        text-align: right;\n",
       "    }\n",
       "</style>\n",
       "<table border=\"1\" class=\"dataframe\">\n",
       "  <thead>\n",
       "    <tr style=\"text-align: right;\">\n",
       "      <th></th>\n",
       "      <th>year</th>\n",
       "      <th>week</th>\n",
       "      <th>day</th>\n",
       "    </tr>\n",
       "  </thead>\n",
       "  <tbody>\n",
       "    <tr>\n",
       "      <th>0</th>\n",
       "      <td>2021</td>\n",
       "      <td>10</td>\n",
       "      <td>7</td>\n",
       "    </tr>\n",
       "    <tr>\n",
       "      <th>1</th>\n",
       "      <td>2021</td>\n",
       "      <td>10</td>\n",
       "      <td>7</td>\n",
       "    </tr>\n",
       "    <tr>\n",
       "      <th>2</th>\n",
       "      <td>2021</td>\n",
       "      <td>10</td>\n",
       "      <td>7</td>\n",
       "    </tr>\n",
       "    <tr>\n",
       "      <th>3</th>\n",
       "      <td>2021</td>\n",
       "      <td>10</td>\n",
       "      <td>7</td>\n",
       "    </tr>\n",
       "    <tr>\n",
       "      <th>4</th>\n",
       "      <td>2021</td>\n",
       "      <td>10</td>\n",
       "      <td>7</td>\n",
       "    </tr>\n",
       "    <tr>\n",
       "      <th>...</th>\n",
       "      <td>...</td>\n",
       "      <td>...</td>\n",
       "      <td>...</td>\n",
       "    </tr>\n",
       "    <tr>\n",
       "      <th>30056</th>\n",
       "      <td>2020</td>\n",
       "      <td>5</td>\n",
       "      <td>5</td>\n",
       "    </tr>\n",
       "    <tr>\n",
       "      <th>30057</th>\n",
       "      <td>2020</td>\n",
       "      <td>5</td>\n",
       "      <td>4</td>\n",
       "    </tr>\n",
       "    <tr>\n",
       "      <th>30058</th>\n",
       "      <td>2020</td>\n",
       "      <td>5</td>\n",
       "      <td>4</td>\n",
       "    </tr>\n",
       "    <tr>\n",
       "      <th>30059</th>\n",
       "      <td>2020</td>\n",
       "      <td>5</td>\n",
       "      <td>4</td>\n",
       "    </tr>\n",
       "    <tr>\n",
       "      <th>30060</th>\n",
       "      <td>2020</td>\n",
       "      <td>4</td>\n",
       "      <td>5</td>\n",
       "    </tr>\n",
       "  </tbody>\n",
       "</table>\n",
       "<p>30061 rows × 3 columns</p>\n",
       "</div>"
      ],
      "text/plain": [
       "       year  week  day\n",
       "0      2021    10    7\n",
       "1      2021    10    7\n",
       "2      2021    10    7\n",
       "3      2021    10    7\n",
       "4      2021    10    7\n",
       "...     ...   ...  ...\n",
       "30056  2020     5    5\n",
       "30057  2020     5    4\n",
       "30058  2020     5    4\n",
       "30059  2020     5    4\n",
       "30060  2020     4    5\n",
       "\n",
       "[30061 rows x 3 columns]"
      ]
     },
     "execution_count": 95,
     "metadata": {},
     "output_type": "execute_result"
    }
   ],
   "source": [
    "tmp = corona['확진일'].dt.isocalendar()\n",
    "tmp"
   ]
  },
  {
   "cell_type": "code",
   "execution_count": 96,
   "metadata": {
    "scrolled": false
   },
   "outputs": [],
   "source": [
    "#corona['년'] = corona['확진일'].dt.year\n",
    "corona['년'] = tmp['year']\n",
    "corona['월'] = corona['확진일'].dt.month\n",
    "#corona['주'] = corona['확진일'].dt.week\n",
    "corona['주'] = tmp['week']\n",
    "#corona['요일'] = corona['확진일'].dt.dayofweek\n",
    "corona['요일'] = tmp['day']"
   ]
  },
  {
   "cell_type": "code",
   "execution_count": 97,
   "metadata": {},
   "outputs": [
    {
     "data": {
      "text/html": [
       "<div>\n",
       "<style scoped>\n",
       "    .dataframe tbody tr th:only-of-type {\n",
       "        vertical-align: middle;\n",
       "    }\n",
       "\n",
       "    .dataframe tbody tr th {\n",
       "        vertical-align: top;\n",
       "    }\n",
       "\n",
       "    .dataframe thead th {\n",
       "        text-align: right;\n",
       "    }\n",
       "</style>\n",
       "<table border=\"1\" class=\"dataframe\">\n",
       "  <thead>\n",
       "    <tr style=\"text-align: right;\">\n",
       "      <th></th>\n",
       "      <th>ID</th>\n",
       "      <th>확진일</th>\n",
       "      <th>자치구</th>\n",
       "      <th>여행력</th>\n",
       "      <th>접촉력</th>\n",
       "      <th>현재상태</th>\n",
       "      <th>년</th>\n",
       "      <th>월</th>\n",
       "      <th>주</th>\n",
       "      <th>요일</th>\n",
       "    </tr>\n",
       "  </thead>\n",
       "  <tbody>\n",
       "    <tr>\n",
       "      <th>0</th>\n",
       "      <td>30061</td>\n",
       "      <td>2021-03-14</td>\n",
       "      <td>동대문구</td>\n",
       "      <td>NaN</td>\n",
       "      <td>동대문구 소재 병원 관련(\\'21.2.)</td>\n",
       "      <td>사망</td>\n",
       "      <td>2021</td>\n",
       "      <td>3</td>\n",
       "      <td>10</td>\n",
       "      <td>7</td>\n",
       "    </tr>\n",
       "    <tr>\n",
       "      <th>1</th>\n",
       "      <td>30060</td>\n",
       "      <td>2021-03-14</td>\n",
       "      <td>강동구</td>\n",
       "      <td>NaN</td>\n",
       "      <td>감염경로 조사중</td>\n",
       "      <td>NaN</td>\n",
       "      <td>2021</td>\n",
       "      <td>3</td>\n",
       "      <td>10</td>\n",
       "      <td>7</td>\n",
       "    </tr>\n",
       "    <tr>\n",
       "      <th>2</th>\n",
       "      <td>30059</td>\n",
       "      <td>2021-03-14</td>\n",
       "      <td>타시도</td>\n",
       "      <td>NaN</td>\n",
       "      <td>관악구 소재 미용업 관련</td>\n",
       "      <td>NaN</td>\n",
       "      <td>2021</td>\n",
       "      <td>3</td>\n",
       "      <td>10</td>\n",
       "      <td>7</td>\n",
       "    </tr>\n",
       "    <tr>\n",
       "      <th>3</th>\n",
       "      <td>30058</td>\n",
       "      <td>2021-03-14</td>\n",
       "      <td>마포구</td>\n",
       "      <td>NaN</td>\n",
       "      <td>감염경로 조사중</td>\n",
       "      <td>NaN</td>\n",
       "      <td>2021</td>\n",
       "      <td>3</td>\n",
       "      <td>10</td>\n",
       "      <td>7</td>\n",
       "    </tr>\n",
       "    <tr>\n",
       "      <th>4</th>\n",
       "      <td>30057</td>\n",
       "      <td>2021-03-14</td>\n",
       "      <td>서대문구</td>\n",
       "      <td>NaN</td>\n",
       "      <td>타시도 확진자 접촉</td>\n",
       "      <td>NaN</td>\n",
       "      <td>2021</td>\n",
       "      <td>3</td>\n",
       "      <td>10</td>\n",
       "      <td>7</td>\n",
       "    </tr>\n",
       "    <tr>\n",
       "      <th>...</th>\n",
       "      <td>...</td>\n",
       "      <td>...</td>\n",
       "      <td>...</td>\n",
       "      <td>...</td>\n",
       "      <td>...</td>\n",
       "      <td>...</td>\n",
       "      <td>...</td>\n",
       "      <td>...</td>\n",
       "      <td>...</td>\n",
       "      <td>...</td>\n",
       "    </tr>\n",
       "    <tr>\n",
       "      <th>30056</th>\n",
       "      <td>5</td>\n",
       "      <td>2020-01-31</td>\n",
       "      <td>마포구</td>\n",
       "      <td>NaN</td>\n",
       "      <td>기타 확진자 접촉</td>\n",
       "      <td>퇴원</td>\n",
       "      <td>2020</td>\n",
       "      <td>1</td>\n",
       "      <td>5</td>\n",
       "      <td>5</td>\n",
       "    </tr>\n",
       "    <tr>\n",
       "      <th>30057</th>\n",
       "      <td>4</td>\n",
       "      <td>2020-01-30</td>\n",
       "      <td>종로구</td>\n",
       "      <td>중국</td>\n",
       "      <td>해외유입</td>\n",
       "      <td>퇴원</td>\n",
       "      <td>2020</td>\n",
       "      <td>1</td>\n",
       "      <td>5</td>\n",
       "      <td>4</td>\n",
       "    </tr>\n",
       "    <tr>\n",
       "      <th>30058</th>\n",
       "      <td>3</td>\n",
       "      <td>2020-01-30</td>\n",
       "      <td>중랑구</td>\n",
       "      <td>NaN</td>\n",
       "      <td>종로구 집단발병</td>\n",
       "      <td>퇴원</td>\n",
       "      <td>2020</td>\n",
       "      <td>1</td>\n",
       "      <td>5</td>\n",
       "      <td>4</td>\n",
       "    </tr>\n",
       "    <tr>\n",
       "      <th>30059</th>\n",
       "      <td>2</td>\n",
       "      <td>2020-01-30</td>\n",
       "      <td>강서구</td>\n",
       "      <td>중국</td>\n",
       "      <td>해외유입</td>\n",
       "      <td>퇴원</td>\n",
       "      <td>2020</td>\n",
       "      <td>1</td>\n",
       "      <td>5</td>\n",
       "      <td>4</td>\n",
       "    </tr>\n",
       "    <tr>\n",
       "      <th>30060</th>\n",
       "      <td>1</td>\n",
       "      <td>2020-01-24</td>\n",
       "      <td>강서구</td>\n",
       "      <td>중국</td>\n",
       "      <td>해외유입</td>\n",
       "      <td>퇴원</td>\n",
       "      <td>2020</td>\n",
       "      <td>1</td>\n",
       "      <td>4</td>\n",
       "      <td>5</td>\n",
       "    </tr>\n",
       "  </tbody>\n",
       "</table>\n",
       "<p>30061 rows × 10 columns</p>\n",
       "</div>"
      ],
      "text/plain": [
       "          ID        확진일   자치구  여행력                     접촉력 현재상태     년  월   주  \\\n",
       "0      30061 2021-03-14  동대문구  NaN  동대문구 소재 병원 관련(\\'21.2.)   사망  2021  3  10   \n",
       "1      30060 2021-03-14   강동구  NaN                감염경로 조사중  NaN  2021  3  10   \n",
       "2      30059 2021-03-14   타시도  NaN           관악구 소재 미용업 관련  NaN  2021  3  10   \n",
       "3      30058 2021-03-14   마포구  NaN                감염경로 조사중  NaN  2021  3  10   \n",
       "4      30057 2021-03-14  서대문구  NaN              타시도 확진자 접촉  NaN  2021  3  10   \n",
       "...      ...        ...   ...  ...                     ...  ...   ... ..  ..   \n",
       "30056      5 2020-01-31   마포구  NaN               기타 확진자 접촉   퇴원  2020  1   5   \n",
       "30057      4 2020-01-30   종로구   중국                    해외유입   퇴원  2020  1   5   \n",
       "30058      3 2020-01-30   중랑구  NaN                종로구 집단발병   퇴원  2020  1   5   \n",
       "30059      2 2020-01-30   강서구   중국                    해외유입   퇴원  2020  1   5   \n",
       "30060      1 2020-01-24   강서구   중국                    해외유입   퇴원  2020  1   4   \n",
       "\n",
       "       요일  \n",
       "0       7  \n",
       "1       7  \n",
       "2       7  \n",
       "3       7  \n",
       "4       7  \n",
       "...    ..  \n",
       "30056   5  \n",
       "30057   4  \n",
       "30058   4  \n",
       "30059   4  \n",
       "30060   5  \n",
       "\n",
       "[30061 rows x 10 columns]"
      ]
     },
     "execution_count": 97,
     "metadata": {},
     "output_type": "execute_result"
    }
   ],
   "source": [
    "corona"
   ]
  },
  {
   "cell_type": "markdown",
   "metadata": {
    "ExecuteTime": {
     "end_time": "2020-08-22T14:17:12.955322Z",
     "start_time": "2020-08-22T14:17:12.947343Z"
    }
   },
   "source": [
    "## 요일 정수를 문자열(월,화,수,목,금,토,일)로 변경\n",
    "- datetime에서 요일을 추출하면 정수로 반환된다.\n",
    "    - dt.week 로 조회시 - 월요일: 0, 일요일: 6\n",
    "    - dt.isocalendar()['week']로 조회시 - 월요일 : 1, 일요일: 7"
   ]
  },
  {
   "cell_type": "code",
   "execution_count": 98,
   "metadata": {},
   "outputs": [],
   "source": [
    "def change_dayofweek(x):\n",
    "    if x == 1:\n",
    "        return '월'\n",
    "    elif x == 2:\n",
    "        return '화'\n",
    "    elif x == 3:\n",
    "        return '수'\n",
    "    elif x == 4:\n",
    "        return '목'\n",
    "    elif x == 5:\n",
    "        return '금'\n",
    "    elif x == 6:\n",
    "        return '토'\n",
    "    else:\n",
    "        return '일'"
   ]
  },
  {
   "cell_type": "code",
   "execution_count": 99,
   "metadata": {},
   "outputs": [],
   "source": [
    "corona['요일'] = corona['요일'].apply(change_dayofweek)"
   ]
  },
  {
   "cell_type": "code",
   "execution_count": 100,
   "metadata": {},
   "outputs": [
    {
     "data": {
      "text/html": [
       "<div>\n",
       "<style scoped>\n",
       "    .dataframe tbody tr th:only-of-type {\n",
       "        vertical-align: middle;\n",
       "    }\n",
       "\n",
       "    .dataframe tbody tr th {\n",
       "        vertical-align: top;\n",
       "    }\n",
       "\n",
       "    .dataframe thead th {\n",
       "        text-align: right;\n",
       "    }\n",
       "</style>\n",
       "<table border=\"1\" class=\"dataframe\">\n",
       "  <thead>\n",
       "    <tr style=\"text-align: right;\">\n",
       "      <th></th>\n",
       "      <th>ID</th>\n",
       "      <th>확진일</th>\n",
       "      <th>자치구</th>\n",
       "      <th>여행력</th>\n",
       "      <th>접촉력</th>\n",
       "      <th>현재상태</th>\n",
       "      <th>년</th>\n",
       "      <th>월</th>\n",
       "      <th>주</th>\n",
       "      <th>요일</th>\n",
       "    </tr>\n",
       "  </thead>\n",
       "  <tbody>\n",
       "    <tr>\n",
       "      <th>0</th>\n",
       "      <td>30061</td>\n",
       "      <td>2021-03-14</td>\n",
       "      <td>동대문구</td>\n",
       "      <td>NaN</td>\n",
       "      <td>동대문구 소재 병원 관련(\\'21.2.)</td>\n",
       "      <td>사망</td>\n",
       "      <td>2021</td>\n",
       "      <td>3</td>\n",
       "      <td>10</td>\n",
       "      <td>일</td>\n",
       "    </tr>\n",
       "    <tr>\n",
       "      <th>1</th>\n",
       "      <td>30060</td>\n",
       "      <td>2021-03-14</td>\n",
       "      <td>강동구</td>\n",
       "      <td>NaN</td>\n",
       "      <td>감염경로 조사중</td>\n",
       "      <td>NaN</td>\n",
       "      <td>2021</td>\n",
       "      <td>3</td>\n",
       "      <td>10</td>\n",
       "      <td>일</td>\n",
       "    </tr>\n",
       "    <tr>\n",
       "      <th>2</th>\n",
       "      <td>30059</td>\n",
       "      <td>2021-03-14</td>\n",
       "      <td>타시도</td>\n",
       "      <td>NaN</td>\n",
       "      <td>관악구 소재 미용업 관련</td>\n",
       "      <td>NaN</td>\n",
       "      <td>2021</td>\n",
       "      <td>3</td>\n",
       "      <td>10</td>\n",
       "      <td>일</td>\n",
       "    </tr>\n",
       "    <tr>\n",
       "      <th>3</th>\n",
       "      <td>30058</td>\n",
       "      <td>2021-03-14</td>\n",
       "      <td>마포구</td>\n",
       "      <td>NaN</td>\n",
       "      <td>감염경로 조사중</td>\n",
       "      <td>NaN</td>\n",
       "      <td>2021</td>\n",
       "      <td>3</td>\n",
       "      <td>10</td>\n",
       "      <td>일</td>\n",
       "    </tr>\n",
       "    <tr>\n",
       "      <th>4</th>\n",
       "      <td>30057</td>\n",
       "      <td>2021-03-14</td>\n",
       "      <td>서대문구</td>\n",
       "      <td>NaN</td>\n",
       "      <td>타시도 확진자 접촉</td>\n",
       "      <td>NaN</td>\n",
       "      <td>2021</td>\n",
       "      <td>3</td>\n",
       "      <td>10</td>\n",
       "      <td>일</td>\n",
       "    </tr>\n",
       "    <tr>\n",
       "      <th>...</th>\n",
       "      <td>...</td>\n",
       "      <td>...</td>\n",
       "      <td>...</td>\n",
       "      <td>...</td>\n",
       "      <td>...</td>\n",
       "      <td>...</td>\n",
       "      <td>...</td>\n",
       "      <td>...</td>\n",
       "      <td>...</td>\n",
       "      <td>...</td>\n",
       "    </tr>\n",
       "    <tr>\n",
       "      <th>30056</th>\n",
       "      <td>5</td>\n",
       "      <td>2020-01-31</td>\n",
       "      <td>마포구</td>\n",
       "      <td>NaN</td>\n",
       "      <td>기타 확진자 접촉</td>\n",
       "      <td>퇴원</td>\n",
       "      <td>2020</td>\n",
       "      <td>1</td>\n",
       "      <td>5</td>\n",
       "      <td>금</td>\n",
       "    </tr>\n",
       "    <tr>\n",
       "      <th>30057</th>\n",
       "      <td>4</td>\n",
       "      <td>2020-01-30</td>\n",
       "      <td>종로구</td>\n",
       "      <td>중국</td>\n",
       "      <td>해외유입</td>\n",
       "      <td>퇴원</td>\n",
       "      <td>2020</td>\n",
       "      <td>1</td>\n",
       "      <td>5</td>\n",
       "      <td>목</td>\n",
       "    </tr>\n",
       "    <tr>\n",
       "      <th>30058</th>\n",
       "      <td>3</td>\n",
       "      <td>2020-01-30</td>\n",
       "      <td>중랑구</td>\n",
       "      <td>NaN</td>\n",
       "      <td>종로구 집단발병</td>\n",
       "      <td>퇴원</td>\n",
       "      <td>2020</td>\n",
       "      <td>1</td>\n",
       "      <td>5</td>\n",
       "      <td>목</td>\n",
       "    </tr>\n",
       "    <tr>\n",
       "      <th>30059</th>\n",
       "      <td>2</td>\n",
       "      <td>2020-01-30</td>\n",
       "      <td>강서구</td>\n",
       "      <td>중국</td>\n",
       "      <td>해외유입</td>\n",
       "      <td>퇴원</td>\n",
       "      <td>2020</td>\n",
       "      <td>1</td>\n",
       "      <td>5</td>\n",
       "      <td>목</td>\n",
       "    </tr>\n",
       "    <tr>\n",
       "      <th>30060</th>\n",
       "      <td>1</td>\n",
       "      <td>2020-01-24</td>\n",
       "      <td>강서구</td>\n",
       "      <td>중국</td>\n",
       "      <td>해외유입</td>\n",
       "      <td>퇴원</td>\n",
       "      <td>2020</td>\n",
       "      <td>1</td>\n",
       "      <td>4</td>\n",
       "      <td>금</td>\n",
       "    </tr>\n",
       "  </tbody>\n",
       "</table>\n",
       "<p>30061 rows × 10 columns</p>\n",
       "</div>"
      ],
      "text/plain": [
       "          ID        확진일   자치구  여행력                     접촉력 현재상태     년  월   주  \\\n",
       "0      30061 2021-03-14  동대문구  NaN  동대문구 소재 병원 관련(\\'21.2.)   사망  2021  3  10   \n",
       "1      30060 2021-03-14   강동구  NaN                감염경로 조사중  NaN  2021  3  10   \n",
       "2      30059 2021-03-14   타시도  NaN           관악구 소재 미용업 관련  NaN  2021  3  10   \n",
       "3      30058 2021-03-14   마포구  NaN                감염경로 조사중  NaN  2021  3  10   \n",
       "4      30057 2021-03-14  서대문구  NaN              타시도 확진자 접촉  NaN  2021  3  10   \n",
       "...      ...        ...   ...  ...                     ...  ...   ... ..  ..   \n",
       "30056      5 2020-01-31   마포구  NaN               기타 확진자 접촉   퇴원  2020  1   5   \n",
       "30057      4 2020-01-30   종로구   중국                    해외유입   퇴원  2020  1   5   \n",
       "30058      3 2020-01-30   중랑구  NaN                종로구 집단발병   퇴원  2020  1   5   \n",
       "30059      2 2020-01-30   강서구   중국                    해외유입   퇴원  2020  1   5   \n",
       "30060      1 2020-01-24   강서구   중국                    해외유입   퇴원  2020  1   4   \n",
       "\n",
       "      요일  \n",
       "0      일  \n",
       "1      일  \n",
       "2      일  \n",
       "3      일  \n",
       "4      일  \n",
       "...   ..  \n",
       "30056  금  \n",
       "30057  목  \n",
       "30058  목  \n",
       "30059  목  \n",
       "30060  금  \n",
       "\n",
       "[30061 rows x 10 columns]"
      ]
     },
     "execution_count": 100,
     "metadata": {},
     "output_type": "execute_result"
    }
   ],
   "source": [
    "corona"
   ]
  },
  {
   "cell_type": "code",
   "execution_count": null,
   "metadata": {},
   "outputs": [],
   "source": []
  },
  {
   "cell_type": "markdown",
   "metadata": {},
   "source": [
    "###  Categorical Data 타입\n",
    "> - 범주형 타입\n",
    "> - 문자열과 차이점\n",
    ">     - 내부적으로 정수로 관리되기 때문에 메모리를 절약 할 수 있다. \n",
    ">     - 사전적 순서와 논리적 순서가 다를 경우 논리적 순서로 정렬되도록 정의 할 수 있다.\n",
    ">         - 사전적순서: Four One Three Two\n",
    ">         - 논리적순서: One Two Three Four\n",
    "> - str 타입 Series를 Categorical 타입으로 변환\n",
    ">     - `pandas.Categorical(변환할Series, [categories=[고유값 리스트], ordered=None])`\n",
    "    - categories: 고유값 리스트를 지정한다. 생략할 경우 Series의 고유값들을 가지고 만든다.\n",
    "        - 원하는 순서대로 지정하기 위해서는 설정한다.\n",
    "    - ordered: 순성형 여부 설정"
   ]
  },
  {
   "cell_type": "markdown",
   "metadata": {},
   "source": [
    "## 요일을 Categorical Type으로 변환"
   ]
  },
  {
   "cell_type": "code",
   "execution_count": 101,
   "metadata": {},
   "outputs": [],
   "source": [
    "corona['요일'] = pd.Categorical(corona['요일'], categories = ['월', '화', '수', '목', '금', '토', '일'])"
   ]
  },
  {
   "cell_type": "code",
   "execution_count": 102,
   "metadata": {},
   "outputs": [
    {
     "name": "stdout",
     "output_type": "stream",
     "text": [
      "<class 'pandas.core.frame.DataFrame'>\n",
      "RangeIndex: 30061 entries, 0 to 30060\n",
      "Data columns (total 10 columns):\n",
      " #   Column  Non-Null Count  Dtype         \n",
      "---  ------  --------------  -----         \n",
      " 0   ID      30061 non-null  int64         \n",
      " 1   확진일     30061 non-null  datetime64[ns]\n",
      " 2   자치구     30061 non-null  object        \n",
      " 3   여행력     976 non-null    object        \n",
      " 4   접촉력     30061 non-null  object        \n",
      " 5   현재상태    27143 non-null  object        \n",
      " 6   년       30061 non-null  UInt32        \n",
      " 7   월       30061 non-null  int64         \n",
      " 8   주       30061 non-null  UInt32        \n",
      " 9   요일      30061 non-null  category      \n",
      "dtypes: UInt32(2), category(1), datetime64[ns](1), int64(2), object(4)\n",
      "memory usage: 1.9+ MB\n"
     ]
    }
   ],
   "source": [
    "corona.info()"
   ]
  },
  {
   "cell_type": "code",
   "execution_count": 103,
   "metadata": {},
   "outputs": [
    {
     "data": {
      "text/plain": [
       "['일', '토', '금', '목', '수', '화', '월']\n",
       "Categories (7, object): ['일', '토', '금', '목', '수', '화', '월']"
      ]
     },
     "execution_count": 103,
     "metadata": {},
     "output_type": "execute_result"
    }
   ],
   "source": [
    "corona['요일'].unique()"
   ]
  },
  {
   "cell_type": "markdown",
   "metadata": {},
   "source": [
    "## 확진자 수 변화 추이 시각화"
   ]
  },
  {
   "cell_type": "code",
   "execution_count": 104,
   "metadata": {},
   "outputs": [
    {
     "data": {
      "text/html": [
       "<div>\n",
       "<style scoped>\n",
       "    .dataframe tbody tr th:only-of-type {\n",
       "        vertical-align: middle;\n",
       "    }\n",
       "\n",
       "    .dataframe tbody tr th {\n",
       "        vertical-align: top;\n",
       "    }\n",
       "\n",
       "    .dataframe thead th {\n",
       "        text-align: right;\n",
       "    }\n",
       "</style>\n",
       "<table border=\"1\" class=\"dataframe\">\n",
       "  <thead>\n",
       "    <tr style=\"text-align: right;\">\n",
       "      <th></th>\n",
       "      <th>ID</th>\n",
       "      <th>확진일</th>\n",
       "      <th>자치구</th>\n",
       "      <th>여행력</th>\n",
       "      <th>접촉력</th>\n",
       "      <th>현재상태</th>\n",
       "      <th>년</th>\n",
       "      <th>월</th>\n",
       "      <th>주</th>\n",
       "      <th>요일</th>\n",
       "    </tr>\n",
       "  </thead>\n",
       "  <tbody>\n",
       "    <tr>\n",
       "      <th>0</th>\n",
       "      <td>30061</td>\n",
       "      <td>2021-03-14</td>\n",
       "      <td>동대문구</td>\n",
       "      <td>NaN</td>\n",
       "      <td>동대문구 소재 병원 관련(\\'21.2.)</td>\n",
       "      <td>사망</td>\n",
       "      <td>2021</td>\n",
       "      <td>3</td>\n",
       "      <td>10</td>\n",
       "      <td>일</td>\n",
       "    </tr>\n",
       "    <tr>\n",
       "      <th>1</th>\n",
       "      <td>30060</td>\n",
       "      <td>2021-03-14</td>\n",
       "      <td>강동구</td>\n",
       "      <td>NaN</td>\n",
       "      <td>감염경로 조사중</td>\n",
       "      <td>NaN</td>\n",
       "      <td>2021</td>\n",
       "      <td>3</td>\n",
       "      <td>10</td>\n",
       "      <td>일</td>\n",
       "    </tr>\n",
       "    <tr>\n",
       "      <th>2</th>\n",
       "      <td>30059</td>\n",
       "      <td>2021-03-14</td>\n",
       "      <td>타시도</td>\n",
       "      <td>NaN</td>\n",
       "      <td>관악구 소재 미용업 관련</td>\n",
       "      <td>NaN</td>\n",
       "      <td>2021</td>\n",
       "      <td>3</td>\n",
       "      <td>10</td>\n",
       "      <td>일</td>\n",
       "    </tr>\n",
       "    <tr>\n",
       "      <th>3</th>\n",
       "      <td>30058</td>\n",
       "      <td>2021-03-14</td>\n",
       "      <td>마포구</td>\n",
       "      <td>NaN</td>\n",
       "      <td>감염경로 조사중</td>\n",
       "      <td>NaN</td>\n",
       "      <td>2021</td>\n",
       "      <td>3</td>\n",
       "      <td>10</td>\n",
       "      <td>일</td>\n",
       "    </tr>\n",
       "    <tr>\n",
       "      <th>4</th>\n",
       "      <td>30057</td>\n",
       "      <td>2021-03-14</td>\n",
       "      <td>서대문구</td>\n",
       "      <td>NaN</td>\n",
       "      <td>타시도 확진자 접촉</td>\n",
       "      <td>NaN</td>\n",
       "      <td>2021</td>\n",
       "      <td>3</td>\n",
       "      <td>10</td>\n",
       "      <td>일</td>\n",
       "    </tr>\n",
       "    <tr>\n",
       "      <th>...</th>\n",
       "      <td>...</td>\n",
       "      <td>...</td>\n",
       "      <td>...</td>\n",
       "      <td>...</td>\n",
       "      <td>...</td>\n",
       "      <td>...</td>\n",
       "      <td>...</td>\n",
       "      <td>...</td>\n",
       "      <td>...</td>\n",
       "      <td>...</td>\n",
       "    </tr>\n",
       "    <tr>\n",
       "      <th>30056</th>\n",
       "      <td>5</td>\n",
       "      <td>2020-01-31</td>\n",
       "      <td>마포구</td>\n",
       "      <td>NaN</td>\n",
       "      <td>기타 확진자 접촉</td>\n",
       "      <td>퇴원</td>\n",
       "      <td>2020</td>\n",
       "      <td>1</td>\n",
       "      <td>5</td>\n",
       "      <td>금</td>\n",
       "    </tr>\n",
       "    <tr>\n",
       "      <th>30057</th>\n",
       "      <td>4</td>\n",
       "      <td>2020-01-30</td>\n",
       "      <td>종로구</td>\n",
       "      <td>중국</td>\n",
       "      <td>해외유입</td>\n",
       "      <td>퇴원</td>\n",
       "      <td>2020</td>\n",
       "      <td>1</td>\n",
       "      <td>5</td>\n",
       "      <td>목</td>\n",
       "    </tr>\n",
       "    <tr>\n",
       "      <th>30058</th>\n",
       "      <td>3</td>\n",
       "      <td>2020-01-30</td>\n",
       "      <td>중랑구</td>\n",
       "      <td>NaN</td>\n",
       "      <td>종로구 집단발병</td>\n",
       "      <td>퇴원</td>\n",
       "      <td>2020</td>\n",
       "      <td>1</td>\n",
       "      <td>5</td>\n",
       "      <td>목</td>\n",
       "    </tr>\n",
       "    <tr>\n",
       "      <th>30059</th>\n",
       "      <td>2</td>\n",
       "      <td>2020-01-30</td>\n",
       "      <td>강서구</td>\n",
       "      <td>중국</td>\n",
       "      <td>해외유입</td>\n",
       "      <td>퇴원</td>\n",
       "      <td>2020</td>\n",
       "      <td>1</td>\n",
       "      <td>5</td>\n",
       "      <td>목</td>\n",
       "    </tr>\n",
       "    <tr>\n",
       "      <th>30060</th>\n",
       "      <td>1</td>\n",
       "      <td>2020-01-24</td>\n",
       "      <td>강서구</td>\n",
       "      <td>중국</td>\n",
       "      <td>해외유입</td>\n",
       "      <td>퇴원</td>\n",
       "      <td>2020</td>\n",
       "      <td>1</td>\n",
       "      <td>4</td>\n",
       "      <td>금</td>\n",
       "    </tr>\n",
       "  </tbody>\n",
       "</table>\n",
       "<p>30061 rows × 10 columns</p>\n",
       "</div>"
      ],
      "text/plain": [
       "          ID        확진일   자치구  여행력                     접촉력 현재상태     년  월   주  \\\n",
       "0      30061 2021-03-14  동대문구  NaN  동대문구 소재 병원 관련(\\'21.2.)   사망  2021  3  10   \n",
       "1      30060 2021-03-14   강동구  NaN                감염경로 조사중  NaN  2021  3  10   \n",
       "2      30059 2021-03-14   타시도  NaN           관악구 소재 미용업 관련  NaN  2021  3  10   \n",
       "3      30058 2021-03-14   마포구  NaN                감염경로 조사중  NaN  2021  3  10   \n",
       "4      30057 2021-03-14  서대문구  NaN              타시도 확진자 접촉  NaN  2021  3  10   \n",
       "...      ...        ...   ...  ...                     ...  ...   ... ..  ..   \n",
       "30056      5 2020-01-31   마포구  NaN               기타 확진자 접촉   퇴원  2020  1   5   \n",
       "30057      4 2020-01-30   종로구   중국                    해외유입   퇴원  2020  1   5   \n",
       "30058      3 2020-01-30   중랑구  NaN                종로구 집단발병   퇴원  2020  1   5   \n",
       "30059      2 2020-01-30   강서구   중국                    해외유입   퇴원  2020  1   5   \n",
       "30060      1 2020-01-24   강서구   중국                    해외유입   퇴원  2020  1   4   \n",
       "\n",
       "      요일  \n",
       "0      일  \n",
       "1      일  \n",
       "2      일  \n",
       "3      일  \n",
       "4      일  \n",
       "...   ..  \n",
       "30056  금  \n",
       "30057  목  \n",
       "30058  목  \n",
       "30059  목  \n",
       "30060  금  \n",
       "\n",
       "[30061 rows x 10 columns]"
      ]
     },
     "execution_count": 104,
     "metadata": {},
     "output_type": "execute_result"
    }
   ],
   "source": [
    "corona"
   ]
  },
  {
   "cell_type": "code",
   "execution_count": 106,
   "metadata": {},
   "outputs": [
    {
     "data": {
      "image/png": "[encoded data removed]",
      "text/plain": [
       "<Figure size 432x288 with 1 Axes>"
      ]
     },
     "metadata": {
      "needs_background": "light"
     },
     "output_type": "display_data"
    }
   ],
   "source": [
    "corona.groupby('확진일')['ID'].count().plot.line(label = '확진자수')\n",
    "plt.axhline(300, color = 'r', linestyle = ':', label = '300명')\n",
    "plt.grid(True)\n",
    "plt.legend()\n",
    "plt.show()"
   ]
  },
  {
   "cell_type": "markdown",
   "metadata": {},
   "source": [
    "## 2020년 12월 이후 확진일 기준으로 확진자 수 변화 추이 시각화"
   ]
  },
  {
   "cell_type": "code",
   "execution_count": 107,
   "metadata": {},
   "outputs": [
    {
     "data": {
      "text/plain": [
       "2020-12-17    588\n",
       "2020-12-24    566\n",
       "2020-12-28    524\n",
       "2020-12-25    430\n",
       "2020-12-16    427\n",
       "             ... \n",
       "2021-01-24    101\n",
       "2021-01-30    100\n",
       "2021-03-07     99\n",
       "2021-02-28     92\n",
       "2021-02-08     91\n",
       "Name: 확진일, Length: 104, dtype: int64"
      ]
     },
     "execution_count": 107,
     "metadata": {},
     "output_type": "execute_result"
    }
   ],
   "source": [
    "일자별확진자수_12월이후 = corona.loc[corona['확진일']>='2020-12-01', '확진일'].value_counts()\n",
    "일자별확진자수_12월이후"
   ]
  },
  {
   "cell_type": "code",
   "execution_count": 108,
   "metadata": {},
   "outputs": [
    {
     "data": {
      "image/png": "[encoded data removed]",
      "text/plain": [
       "<Figure size 432x288 with 1 Axes>"
      ]
     },
     "metadata": {
      "needs_background": "light"
     },
     "output_type": "display_data"
    }
   ],
   "source": [
    "일자별확진자수_12월이후.plot.line(label = '확진자수')\n",
    "plt.axhline(300, color = 'r', linestyle = ':', label = '300명')\n",
    "plt.grid(True)\n",
    "plt.legend()\n",
    "plt.show()"
   ]
  },
  {
   "cell_type": "code",
   "execution_count": 109,
   "metadata": {},
   "outputs": [
    {
     "data": {
      "image/png": "[encoded data removed]",
      "text/plain": [
       "<Figure size 432x288 with 1 Axes>"
      ]
     },
     "metadata": {
      "needs_background": "light"
     },
     "output_type": "display_data"
    }
   ],
   "source": [
    "corona[corona['년'] > 2020].groupby('확진일')['ID'].count().plot.line()\n",
    "plt.show()"
   ]
  },
  {
   "cell_type": "code",
   "execution_count": null,
   "metadata": {},
   "outputs": [],
   "source": []
  },
  {
   "cell_type": "markdown",
   "metadata": {},
   "source": [
    "## 년도-주 단위 확진자 수 변화 추이 시각화\n",
    "- ex) 2020년 1주차, 2020년 2주차 ... "
   ]
  },
  {
   "cell_type": "code",
   "execution_count": 110,
   "metadata": {
    "collapsed": true
   },
   "outputs": [
    {
     "data": {
      "text/plain": [
       "년     주 \n",
       "2020  4        1\n",
       "      5        7\n",
       "      6        4\n",
       "      7        2\n",
       "      8       17\n",
       "      9       61\n",
       "      10      38\n",
       "      11     124\n",
       "      12      76\n",
       "      13     105\n",
       "      14     129\n",
       "      15      47\n",
       "      16      15\n",
       "      17       3\n",
       "      18       8\n",
       "      19      52\n",
       "      20      47\n",
       "      21      39\n",
       "      22      88\n",
       "      23     134\n",
       "      24     125\n",
       "      25     105\n",
       "      26      78\n",
       "      27      67\n",
       "      28      57\n",
       "      29      48\n",
       "      30      97\n",
       "      31      38\n",
       "      32      76\n",
       "      33     394\n",
       "      34     912\n",
       "      35     921\n",
       "      36     459\n",
       "      37     341\n",
       "      38     280\n",
       "      39     237\n",
       "      40     164\n",
       "      41     170\n",
       "      42     139\n",
       "      43     127\n",
       "      44     250\n",
       "      45     291\n",
       "      46     432\n",
       "      47     820\n",
       "      48    1182\n",
       "      49    1627\n",
       "      50    1977\n",
       "      51    2655\n",
       "      52    2696\n",
       "      53    2401\n",
       "2021  1     1456\n",
       "      2     1002\n",
       "      3      844\n",
       "      4      809\n",
       "      5     1010\n",
       "      6     1044\n",
       "      7     1149\n",
       "      8      848\n",
       "      9      854\n",
       "      10     882\n",
       "Name: ID, dtype: int64"
      ]
     },
     "execution_count": 110,
     "metadata": {},
     "output_type": "execute_result"
    }
   ],
   "source": [
    "년도_주_별_확진자수 = corona.groupby(['년', '주'])['ID'].count()\n",
    "년도_주_별_확진자수"
   ]
  },
  {
   "cell_type": "code",
   "execution_count": 113,
   "metadata": {},
   "outputs": [
    {
     "data": {
      "text/plain": [
       "['2020년 4주차',\n",
       " '2020년 9주차',\n",
       " '2020년 14주차',\n",
       " '2020년 19주차',\n",
       " '2020년 24주차',\n",
       " '2020년 29주차',\n",
       " '2020년 34주차',\n",
       " '2020년 39주차',\n",
       " '2020년 44주차',\n",
       " '2020년 49주차',\n",
       " '2021년 1주차',\n",
       " '2021년 6주차']"
      ]
     },
     "execution_count": 113,
     "metadata": {},
     "output_type": "execute_result"
    }
   ],
   "source": [
    "[f'{year}년 {week}주차' for i, (year, week) in enumerate(년도_주_별_확진자수.index) if i % 5 == 0]"
   ]
  },
  {
   "cell_type": "code",
   "execution_count": 114,
   "metadata": {},
   "outputs": [
    {
     "data": {
      "image/png": "[encoded data removed]",
      "text/plain": [
       "<Figure size 1080x360 with 1 Axes>"
      ]
     },
     "metadata": {
      "needs_background": "light"
     },
     "output_type": "display_data"
    }
   ],
   "source": [
    "년도_주_별_확진자수.plot.line(figsize = (15, 5))\n",
    "plt.xticks(ticks = range(0, 년도_주_별_확진자수.size, 5),\n",
    "           labels = [f'{year}년 {week}주차' for i, (year, week) in enumerate(년도_주_별_확진자수.index) if i % 5 == 0],\n",
    "           rotation = 45)\n",
    "plt.show()"
   ]
  },
  {
   "cell_type": "code",
   "execution_count": null,
   "metadata": {},
   "outputs": [],
   "source": []
  },
  {
   "cell_type": "markdown",
   "metadata": {},
   "source": [
    "## 년-월 단위  확진자수 조회 및 시각화"
   ]
  },
  {
   "cell_type": "code",
   "execution_count": 115,
   "metadata": {},
   "outputs": [
    {
     "data": {
      "text/plain": [
       "년     월 \n",
       "2020  1       776\n",
       "      2        80\n",
       "      3       391\n",
       "      4       156\n",
       "      5       229\n",
       "      6       459\n",
       "      7       281\n",
       "      8      2415\n",
       "      9      1306\n",
       "      10      733\n",
       "      11     2904\n",
       "      12    10433\n",
       "2021  1      4111\n",
       "      2      4051\n",
       "      3      1736\n",
       "Name: ID, dtype: int64"
      ]
     },
     "execution_count": 115,
     "metadata": {},
     "output_type": "execute_result"
    }
   ],
   "source": [
    "년_월별_확진자수 = corona.groupby(['년', '월'])['ID'].count()\n",
    "년_월별_확진자수"
   ]
  },
  {
   "cell_type": "code",
   "execution_count": 116,
   "metadata": {},
   "outputs": [
    {
     "data": {
      "image/png": "[encoded data removed]",
      "text/plain": [
       "<Figure size 720x360 with 1 Axes>"
      ]
     },
     "metadata": {
      "needs_background": "light"
     },
     "output_type": "display_data"
    }
   ],
   "source": [
    "년_월별_확진자수.plot.line(figsize = (10, 5))\n",
    "plt.show()"
   ]
  },
  {
   "cell_type": "code",
   "execution_count": 117,
   "metadata": {},
   "outputs": [
    {
     "data": {
      "image/png": "[encoded data removed]",
      "text/plain": [
       "<Figure size 432x288 with 1 Axes>"
      ]
     },
     "metadata": {
      "needs_background": "light"
     },
     "output_type": "display_data"
    }
   ],
   "source": [
    "년_월별_확진자수.plot.bar(rot = 45)\n",
    "plt.show()"
   ]
  },
  {
   "cell_type": "markdown",
   "metadata": {},
   "source": [
    "## 월-요일별 확진자수 조회 및 시각화"
   ]
  },
  {
   "cell_type": "code",
   "execution_count": 118,
   "metadata": {},
   "outputs": [
    {
     "data": {
      "text/plain": [
       "월   요일\n",
       "1   월      564\n",
       "    화      684\n",
       "    수      663\n",
       "    목      539\n",
       "    금      874\n",
       "          ... \n",
       "12  수     1647\n",
       "    목     2072\n",
       "    금     1410\n",
       "    토     1273\n",
       "    일     1092\n",
       "Name: ID, Length: 84, dtype: int64"
      ]
     },
     "execution_count": 118,
     "metadata": {},
     "output_type": "execute_result"
    }
   ],
   "source": [
    "corona.groupby(['월', '요일'])['ID'].count()"
   ]
  },
  {
   "cell_type": "code",
   "execution_count": 119,
   "metadata": {
    "scrolled": true
   },
   "outputs": [
    {
     "data": {
      "image/png": "[encoded data removed]",
      "text/plain": [
       "<Figure size 720x360 with 1 Axes>"
      ]
     },
     "metadata": {
      "needs_background": "light"
     },
     "output_type": "display_data"
    }
   ],
   "source": [
    "corona.groupby(['월', '요일'])['ID'].count().plot.line(figsize = (10, 5))\n",
    "plt.show()"
   ]
  },
  {
   "cell_type": "code",
   "execution_count": 134,
   "metadata": {},
   "outputs": [
    {
     "data": {
      "text/html": [
       "<div>\n",
       "<style scoped>\n",
       "    .dataframe tbody tr th:only-of-type {\n",
       "        vertical-align: middle;\n",
       "    }\n",
       "\n",
       "    .dataframe tbody tr th {\n",
       "        vertical-align: top;\n",
       "    }\n",
       "\n",
       "    .dataframe thead th {\n",
       "        text-align: right;\n",
       "    }\n",
       "</style>\n",
       "<table border=\"1\" class=\"dataframe\">\n",
       "  <thead>\n",
       "    <tr style=\"text-align: right;\">\n",
       "      <th>요일</th>\n",
       "      <th>월</th>\n",
       "      <th>화</th>\n",
       "      <th>수</th>\n",
       "      <th>목</th>\n",
       "      <th>금</th>\n",
       "      <th>토</th>\n",
       "      <th>일</th>\n",
       "    </tr>\n",
       "    <tr>\n",
       "      <th>월</th>\n",
       "      <th></th>\n",
       "      <th></th>\n",
       "      <th></th>\n",
       "      <th></th>\n",
       "      <th></th>\n",
       "      <th></th>\n",
       "      <th></th>\n",
       "    </tr>\n",
       "  </thead>\n",
       "  <tbody>\n",
       "    <tr>\n",
       "      <th>1</th>\n",
       "      <td>0</td>\n",
       "      <td>0</td>\n",
       "      <td>0</td>\n",
       "      <td>3</td>\n",
       "      <td>252</td>\n",
       "      <td>191</td>\n",
       "      <td>330</td>\n",
       "    </tr>\n",
       "    <tr>\n",
       "      <th>2</th>\n",
       "      <td>4</td>\n",
       "      <td>16</td>\n",
       "      <td>14</td>\n",
       "      <td>16</td>\n",
       "      <td>14</td>\n",
       "      <td>10</td>\n",
       "      <td>6</td>\n",
       "    </tr>\n",
       "    <tr>\n",
       "      <th>3</th>\n",
       "      <td>68</td>\n",
       "      <td>89</td>\n",
       "      <td>48</td>\n",
       "      <td>44</td>\n",
       "      <td>48</td>\n",
       "      <td>45</td>\n",
       "      <td>49</td>\n",
       "    </tr>\n",
       "    <tr>\n",
       "      <th>4</th>\n",
       "      <td>15</td>\n",
       "      <td>17</td>\n",
       "      <td>28</td>\n",
       "      <td>28</td>\n",
       "      <td>26</td>\n",
       "      <td>23</td>\n",
       "      <td>19</td>\n",
       "    </tr>\n",
       "    <tr>\n",
       "      <th>5</th>\n",
       "      <td>26</td>\n",
       "      <td>37</td>\n",
       "      <td>33</td>\n",
       "      <td>34</td>\n",
       "      <td>32</td>\n",
       "      <td>36</td>\n",
       "      <td>31</td>\n",
       "    </tr>\n",
       "    <tr>\n",
       "      <th>6</th>\n",
       "      <td>55</td>\n",
       "      <td>65</td>\n",
       "      <td>66</td>\n",
       "      <td>74</td>\n",
       "      <td>92</td>\n",
       "      <td>69</td>\n",
       "      <td>38</td>\n",
       "    </tr>\n",
       "    <tr>\n",
       "      <th>7</th>\n",
       "      <td>38</td>\n",
       "      <td>42</td>\n",
       "      <td>42</td>\n",
       "      <td>57</td>\n",
       "      <td>34</td>\n",
       "      <td>40</td>\n",
       "      <td>28</td>\n",
       "    </tr>\n",
       "    <tr>\n",
       "      <th>8</th>\n",
       "      <td>389</td>\n",
       "      <td>331</td>\n",
       "      <td>273</td>\n",
       "      <td>334</td>\n",
       "      <td>332</td>\n",
       "      <td>480</td>\n",
       "      <td>276</td>\n",
       "    </tr>\n",
       "    <tr>\n",
       "      <th>9</th>\n",
       "      <td>182</td>\n",
       "      <td>261</td>\n",
       "      <td>235</td>\n",
       "      <td>216</td>\n",
       "      <td>138</td>\n",
       "      <td>160</td>\n",
       "      <td>114</td>\n",
       "    </tr>\n",
       "    <tr>\n",
       "      <th>10</th>\n",
       "      <td>71</td>\n",
       "      <td>112</td>\n",
       "      <td>81</td>\n",
       "      <td>132</td>\n",
       "      <td>134</td>\n",
       "      <td>123</td>\n",
       "      <td>80</td>\n",
       "    </tr>\n",
       "    <tr>\n",
       "      <th>11</th>\n",
       "      <td>444</td>\n",
       "      <td>321</td>\n",
       "      <td>423</td>\n",
       "      <td>449</td>\n",
       "      <td>439</td>\n",
       "      <td>417</td>\n",
       "      <td>411</td>\n",
       "    </tr>\n",
       "    <tr>\n",
       "      <th>12</th>\n",
       "      <td>1335</td>\n",
       "      <td>1604</td>\n",
       "      <td>1647</td>\n",
       "      <td>2072</td>\n",
       "      <td>1410</td>\n",
       "      <td>1273</td>\n",
       "      <td>1092</td>\n",
       "    </tr>\n",
       "  </tbody>\n",
       "</table>\n",
       "</div>"
      ],
      "text/plain": [
       "요일     월     화     수     목     금     토     일\n",
       "월                                           \n",
       "1      0     0     0     3   252   191   330\n",
       "2      4    16    14    16    14    10     6\n",
       "3     68    89    48    44    48    45    49\n",
       "4     15    17    28    28    26    23    19\n",
       "5     26    37    33    34    32    36    31\n",
       "6     55    65    66    74    92    69    38\n",
       "7     38    42    42    57    34    40    28\n",
       "8    389   331   273   334   332   480   276\n",
       "9    182   261   235   216   138   160   114\n",
       "10    71   112    81   132   134   123    80\n",
       "11   444   321   423   449   439   417   411\n",
       "12  1335  1604  1647  2072  1410  1273  1092"
      ]
     },
     "execution_count": 134,
     "metadata": {},
     "output_type": "execute_result"
    }
   ],
   "source": [
    "월_요일별_확진자수 = corona[corona['년'] == 2020].pivot_table(values = 'ID',\n",
    "                                                         index = '월',\n",
    "                                                         columns = '요일',\n",
    "                                                         aggfunc = 'count',\n",
    "                                                         fill_value = 0)  # 결측치는 0으로 처리\n",
    "월_요일별_확진자수"
   ]
  },
  {
   "cell_type": "code",
   "execution_count": 135,
   "metadata": {},
   "outputs": [
    {
     "data": {
      "image/png": "[encoded data removed]",
      "text/plain": [
       "<Figure size 432x288 with 1 Axes>"
      ]
     },
     "metadata": {
      "needs_background": "light"
     },
     "output_type": "display_data"
    }
   ],
   "source": [
    "월_요일별_확진자수.plot.bar()\n",
    "plt.show()"
   ]
  },
  {
   "cell_type": "code",
   "execution_count": 136,
   "metadata": {},
   "outputs": [
    {
     "data": {
      "image/png": "[encoded data removed]",
      "text/plain": [
       "<Figure size 720x360 with 2 Axes>"
      ]
     },
     "metadata": {
      "needs_background": "light"
     },
     "output_type": "display_data"
    }
   ],
   "source": [
    "plt.figure(figsize = (10, 5))\n",
    "sns.heatmap(월_요일별_확진자수, cmap = 'Blues', annot = True, fmt = '.0f')  # .0f를 통해 실수형 값들을 정수형처럼 보이게\n",
    "# 피봇테이블에 NaN값들이 있었어서 실수형으로 저장되었던 것 -> fill_value를 통해 결측치를 없앴기 때문에 fmt = 'd'도 가능하다.\n",
    "plt.show()"
   ]
  },
  {
   "cell_type": "markdown",
   "metadata": {},
   "source": [
    "# 누적 확진자수 조회 및 변화 흐름 시각화\n",
    "- Series/DataFrame.cumsum()\n",
    "    - 누적 합계\n",
    "- Series.to_frame()\n",
    "    - Series를 DataFrame으로 변환"
   ]
  },
  {
   "cell_type": "markdown",
   "metadata": {},
   "source": [
    "## 일별 누적 확진자수 조회"
   ]
  },
  {
   "cell_type": "code",
   "execution_count": 120,
   "metadata": {},
   "outputs": [
    {
     "data": {
      "text/plain": [
       "확진일\n",
       "2020-01-24      1\n",
       "2020-01-30      3\n",
       "2020-01-31      3\n",
       "2020-02-02      1\n",
       "2020-02-05      2\n",
       "             ... \n",
       "2021-03-10    137\n",
       "2021-03-11    140\n",
       "2021-03-12    140\n",
       "2021-03-13    112\n",
       "2021-03-14    112\n",
       "Name: ID, Length: 384, dtype: int64"
      ]
     },
     "execution_count": 120,
     "metadata": {},
     "output_type": "execute_result"
    }
   ],
   "source": [
    "corona.groupby(['확진일'])['ID'].count()"
   ]
  },
  {
   "cell_type": "code",
   "execution_count": 121,
   "metadata": {
    "scrolled": true
   },
   "outputs": [
    {
     "data": {
      "text/plain": [
       "확진일\n",
       "2020-01-24        1\n",
       "2020-01-30        4\n",
       "2020-01-31        7\n",
       "2020-02-02        8\n",
       "2020-02-05       10\n",
       "              ...  \n",
       "2021-03-10    29557\n",
       "2021-03-11    29697\n",
       "2021-03-12    29837\n",
       "2021-03-13    29949\n",
       "2021-03-14    30061\n",
       "Name: ID, Length: 384, dtype: int64"
      ]
     },
     "execution_count": 121,
     "metadata": {},
     "output_type": "execute_result"
    }
   ],
   "source": [
    "corona.groupby(['확진일'])['ID'].count().cumsum()"
   ]
  },
  {
   "cell_type": "code",
   "execution_count": null,
   "metadata": {},
   "outputs": [],
   "source": []
  },
  {
   "cell_type": "markdown",
   "metadata": {},
   "source": [
    "## 누적확진자수 파생변수 생성"
   ]
  },
  {
   "cell_type": "code",
   "execution_count": 141,
   "metadata": {},
   "outputs": [
    {
     "data": {
      "text/html": [
       "<div>\n",
       "<style scoped>\n",
       "    .dataframe tbody tr th:only-of-type {\n",
       "        vertical-align: middle;\n",
       "    }\n",
       "\n",
       "    .dataframe tbody tr th {\n",
       "        vertical-align: top;\n",
       "    }\n",
       "\n",
       "    .dataframe thead th {\n",
       "        text-align: right;\n",
       "    }\n",
       "</style>\n",
       "<table border=\"1\" class=\"dataframe\">\n",
       "  <thead>\n",
       "    <tr style=\"text-align: right;\">\n",
       "      <th></th>\n",
       "      <th>ID</th>\n",
       "    </tr>\n",
       "    <tr>\n",
       "      <th>확진일</th>\n",
       "      <th></th>\n",
       "    </tr>\n",
       "  </thead>\n",
       "  <tbody>\n",
       "    <tr>\n",
       "      <th>2020-01-24</th>\n",
       "      <td>1</td>\n",
       "    </tr>\n",
       "    <tr>\n",
       "      <th>2020-01-30</th>\n",
       "      <td>4</td>\n",
       "    </tr>\n",
       "    <tr>\n",
       "      <th>2020-01-31</th>\n",
       "      <td>7</td>\n",
       "    </tr>\n",
       "    <tr>\n",
       "      <th>2020-02-02</th>\n",
       "      <td>8</td>\n",
       "    </tr>\n",
       "    <tr>\n",
       "      <th>2020-02-05</th>\n",
       "      <td>10</td>\n",
       "    </tr>\n",
       "    <tr>\n",
       "      <th>...</th>\n",
       "      <td>...</td>\n",
       "    </tr>\n",
       "    <tr>\n",
       "      <th>2021-03-10</th>\n",
       "      <td>29557</td>\n",
       "    </tr>\n",
       "    <tr>\n",
       "      <th>2021-03-11</th>\n",
       "      <td>29697</td>\n",
       "    </tr>\n",
       "    <tr>\n",
       "      <th>2021-03-12</th>\n",
       "      <td>29837</td>\n",
       "    </tr>\n",
       "    <tr>\n",
       "      <th>2021-03-13</th>\n",
       "      <td>29949</td>\n",
       "    </tr>\n",
       "    <tr>\n",
       "      <th>2021-03-14</th>\n",
       "      <td>30061</td>\n",
       "    </tr>\n",
       "  </tbody>\n",
       "</table>\n",
       "<p>384 rows × 1 columns</p>\n",
       "</div>"
      ],
      "text/plain": [
       "               ID\n",
       "확진일              \n",
       "2020-01-24      1\n",
       "2020-01-30      4\n",
       "2020-01-31      7\n",
       "2020-02-02      8\n",
       "2020-02-05     10\n",
       "...           ...\n",
       "2021-03-10  29557\n",
       "2021-03-11  29697\n",
       "2021-03-12  29837\n",
       "2021-03-13  29949\n",
       "2021-03-14  30061\n",
       "\n",
       "[384 rows x 1 columns]"
      ]
     },
     "execution_count": 141,
     "metadata": {},
     "output_type": "execute_result"
    }
   ],
   "source": [
    "누적확진자수 = corona.groupby(['확진일'])['ID'].count().cumsum().to_frame()\n",
    "누적확진자수"
   ]
  },
  {
   "cell_type": "code",
   "execution_count": null,
   "metadata": {},
   "outputs": [],
   "source": []
  },
  {
   "cell_type": "markdown",
   "metadata": {},
   "source": [
    "## 누적 확진자수 선그래프"
   ]
  },
  {
   "cell_type": "code",
   "execution_count": 143,
   "metadata": {},
   "outputs": [
    {
     "data": {
      "image/png": "[encoded data removed]",
      "text/plain": [
       "<Figure size 432x288 with 1 Axes>"
      ]
     },
     "metadata": {
      "needs_background": "light"
     },
     "output_type": "display_data"
    }
   ],
   "source": [
    "누적확진자수.plot.line()\n",
    "plt.legend()\n",
    "plt.show()"
   ]
  },
  {
   "cell_type": "code",
   "execution_count": null,
   "metadata": {},
   "outputs": [],
   "source": []
  },
  {
   "cell_type": "markdown",
   "metadata": {},
   "source": [
    "# 자치구 기준 확진자 조회"
   ]
  },
  {
   "cell_type": "markdown",
   "metadata": {},
   "source": [
    "## 자치구별 확진자수 조회"
   ]
  },
  {
   "cell_type": "code",
   "execution_count": 31,
   "metadata": {},
   "outputs": [
    {
     "data": {
      "text/plain": [
       "자치구\n",
       "강남구     1376\n",
       "강동구     1036\n",
       "강북구      785\n",
       "강서구     1704\n",
       "관악구     1408\n",
       "광진구      876\n",
       "구로구     1094\n",
       "금천구      478\n",
       "기타      2000\n",
       "노원구     1322\n",
       "도봉구      954\n",
       "동대문구    1087\n",
       "동작구     1238\n",
       "마포구      990\n",
       "서대문구     786\n",
       "서초구     1148\n",
       "성동구      763\n",
       "성북구     1298\n",
       "송파구     1658\n",
       "양천구     1144\n",
       "영등포구    1122\n",
       "용산구      815\n",
       "은평구     1262\n",
       "종로구      579\n",
       "중구       475\n",
       "중랑구     1250\n",
       "타시도     1413\n",
       "Name: ID, dtype: int64"
      ]
     },
     "execution_count": 31,
     "metadata": {},
     "output_type": "execute_result"
    }
   ],
   "source": [
    "corona.groupby('자치구')['ID'].count()"
   ]
  },
  {
   "cell_type": "code",
   "execution_count": 150,
   "metadata": {},
   "outputs": [
    {
     "data": {
      "text/plain": [
       "기타      2000\n",
       "강서구     1704\n",
       "송파구     1658\n",
       "타시도     1413\n",
       "관악구     1408\n",
       "강남구     1376\n",
       "노원구     1322\n",
       "성북구     1298\n",
       "은평구     1262\n",
       "중랑구     1250\n",
       "동작구     1238\n",
       "서초구     1148\n",
       "양천구     1144\n",
       "영등포구    1122\n",
       "구로구     1094\n",
       "동대문구    1087\n",
       "강동구     1036\n",
       "마포구      990\n",
       "도봉구      954\n",
       "광진구      876\n",
       "용산구      815\n",
       "서대문구     786\n",
       "강북구      785\n",
       "성동구      763\n",
       "종로구      579\n",
       "금천구      478\n",
       "중구       475\n",
       "Name: 자치구, dtype: int64"
      ]
     },
     "execution_count": 150,
     "metadata": {},
     "output_type": "execute_result"
    }
   ],
   "source": [
    "자치구별_확진자수 = corona['자치구'].value_counts()\n",
    "자치구별_확진자수"
   ]
  },
  {
   "cell_type": "markdown",
   "metadata": {
    "ExecuteTime": {
     "end_time": "2020-08-22T14:19:41.422028Z",
     "start_time": "2020-08-22T14:19:40.632144Z"
    }
   },
   "source": [
    "## 자치구별 확진자수 시각화"
   ]
  },
  {
   "cell_type": "code",
   "execution_count": 32,
   "metadata": {},
   "outputs": [
    {
     "data": {
      "text/plain": [
       "array(['동대문구', '강동구', '타시도', ..., '중랑구', '강서구', '강서구'], dtype=object)"
      ]
     },
     "execution_count": 32,
     "metadata": {},
     "output_type": "execute_result"
    }
   ],
   "source": [
    "corona['자치구'].values"
   ]
  },
  {
   "cell_type": "code",
   "execution_count": 33,
   "metadata": {
    "scrolled": true
   },
   "outputs": [
    {
     "data": {
      "image/png": "[encoded data removed]",
      "text/plain": [
       "<Figure size 720x360 with 1 Axes>"
      ]
     },
     "metadata": {
      "needs_background": "light"
     },
     "output_type": "display_data"
    }
   ],
   "source": [
    "corona.groupby('자치구')['ID'].count().plot.bar(rot = 40, figsize = (10, 5))\n",
    "plt.show()"
   ]
  },
  {
   "cell_type": "code",
   "execution_count": 152,
   "metadata": {},
   "outputs": [
    {
     "data": {
      "image/png": "[encoded data removed]",
      "text/plain": [
       "<Figure size 720x504 with 1 Axes>"
      ]
     },
     "metadata": {
      "needs_background": "light"
     },
     "output_type": "display_data"
    }
   ],
   "source": [
    "자치구별_확진자수.plot.barh(figsize = (10, 7))\n",
    "plt.show()"
   ]
  },
  {
   "cell_type": "code",
   "execution_count": null,
   "metadata": {},
   "outputs": [],
   "source": []
  },
  {
   "cell_type": "markdown",
   "metadata": {},
   "source": [
    "# 접촉력 관련 확진자 조회"
   ]
  },
  {
   "cell_type": "markdown",
   "metadata": {},
   "source": [
    "## 가장 많은 집단 감염자를 낸 접촉력 상위 15개 조회"
   ]
  },
  {
   "cell_type": "code",
   "execution_count": 34,
   "metadata": {},
   "outputs": [
    {
     "data": {
      "text/plain": [
       "접촉력\n",
       "기타 확진자 접촉             9660\n",
       "감염경로 조사중              6994\n",
       "타시도 확진자 접촉            1304\n",
       "동부구치소 관련              1175\n",
       "해외유입                   965\n",
       "성북구 사랑제일교회 관련          641\n",
       "강서구 교회 관련              246\n",
       "종로구 소재 파고다타운 관련        227\n",
       "구로구 소재 요양병원/요양원 관련     226\n",
       "강서구 댄스교습관련 시설          224\n",
       "용산구 소재 병원 관련           219\n",
       "병원 및 요양시설              170\n",
       "이태원 클럽 관련              139\n",
       "8.15서울도심집회             126\n",
       "마포구 홍대새교회 관련           109\n",
       "Name: ID, dtype: int64"
      ]
     },
     "execution_count": 34,
     "metadata": {},
     "output_type": "execute_result"
    }
   ],
   "source": [
    "corona.groupby('접촉력')['ID'].count().sort_values(ascending = False)[:15]"
   ]
  },
  {
   "cell_type": "code",
   "execution_count": 153,
   "metadata": {},
   "outputs": [
    {
     "data": {
      "text/plain": [
       "기타 확진자 접촉             9660\n",
       "감염경로 조사중              6994\n",
       "타시도 확진자 접촉            1304\n",
       "동부구치소 관련              1175\n",
       "해외유입                   965\n",
       "성북구 사랑제일교회 관련          641\n",
       "강서구 교회 관련              246\n",
       "종로구 소재 파고다타운 관련        227\n",
       "구로구 소재 요양병원/요양원 관련     226\n",
       "강서구 댄스교습관련 시설          224\n",
       "용산구 소재 병원 관련           219\n",
       "병원 및 요양시설              170\n",
       "이태원 클럽 관련              139\n",
       "8.15서울도심집회             126\n",
       "마포구 홍대새교회 관련           109\n",
       "Name: 접촉력, dtype: int64"
      ]
     },
     "execution_count": 153,
     "metadata": {},
     "output_type": "execute_result"
    }
   ],
   "source": [
    "corona['접촉력'].value_counts().head(15)"
   ]
  },
  {
   "cell_type": "markdown",
   "metadata": {
    "ExecuteTime": {
     "end_time": "2020-08-22T14:21:14.842511Z",
     "start_time": "2020-08-22T14:21:14.814585Z"
    }
   },
   "source": [
    "## 가장 많은 집단 감염자를 낸 접촉력 하위 15 "
   ]
  },
  {
   "cell_type": "code",
   "execution_count": 35,
   "metadata": {},
   "outputs": [
    {
     "data": {
      "text/plain": [
       "접촉력\n",
       "역조실 일보 반영           1\n",
       "중랑구 서울의료원           1\n",
       "서초구소재 종교시설 관련       1\n",
       "구로구소재 고등학교 관련       1\n",
       "중구 소재 콜센터(다은컨설팅)    1\n",
       "광진구 소재 병원 관련        1\n",
       "관악구 투석환자 관련         1\n",
       "신 천 지               1\n",
       "아산병원                1\n",
       "안양 목회자 관련           1\n",
       "관악구 김혜근의원           1\n",
       "영등포 소재 의료기관 관련      1\n",
       "강남구 오렌지라이프 관련       1\n",
       "종로구 서울대병원           1\n",
       "용산구 음식점 관련          1\n",
       "Name: ID, dtype: int64"
      ]
     },
     "execution_count": 35,
     "metadata": {},
     "output_type": "execute_result"
    }
   ],
   "source": [
    "corona.groupby('접촉력')['ID'].count().sort_values(ascending = True)[:15]"
   ]
  },
  {
   "cell_type": "code",
   "execution_count": 154,
   "metadata": {},
   "outputs": [
    {
     "data": {
      "text/plain": [
       "중랑구 서울의료원                   1\n",
       "타시도 확진자 접촉 (강원 강릉시 지인모임)    1\n",
       "타시도 확진자 접촉 (수원 베이비시터 관련)    1\n",
       "위에화엔터테인먼트                   1\n",
       "ㅋㅋ트랜드                       1\n",
       "동대문구 소재 아동시설관련              1\n",
       "용산구 음식점 관련                  1\n",
       "중구 소재 콜센터(다은컨설팅)            1\n",
       "역조실 일보 반영                   1\n",
       "아산병원                        1\n",
       "남부교도소 관련                    1\n",
       "관악구 김혜근의원                   1\n",
       "관악구 투석환자 관련                 1\n",
       "부산시 방문주사 관련                 1\n",
       "이에스에스콤글로벌                   1\n",
       "Name: 접촉력, dtype: int64"
      ]
     },
     "execution_count": 154,
     "metadata": {},
     "output_type": "execute_result"
    }
   ],
   "source": [
    "corona['접촉력'].value_counts().sort_values().head(15)"
   ]
  },
  {
   "cell_type": "markdown",
   "metadata": {
    "ExecuteTime": {
     "end_time": "2020-08-22T14:21:15.511336Z",
     "start_time": "2020-08-22T14:21:15.499366Z"
    }
   },
   "source": [
    "## 접촉력 상위 15개만 시각화"
   ]
  },
  {
   "cell_type": "code",
   "execution_count": 156,
   "metadata": {},
   "outputs": [
    {
     "data": {
      "image/png": "[encoded data removed]",
      "text/plain": [
       "<Figure size 720x360 with 1 Axes>"
      ]
     },
     "metadata": {
      "needs_background": "light"
     },
     "output_type": "display_data"
    }
   ],
   "source": [
    "high_touched = corona.groupby('접촉력')['ID'].count().sort_values(ascending = False)[:15]\n",
    "high_touched.plot.barh(figsize = (10, 5))\n",
    "plt.show()"
   ]
  },
  {
   "cell_type": "code",
   "execution_count": 157,
   "metadata": {},
   "outputs": [
    {
     "data": {
      "image/png": "[encoded data removed]",
      "text/plain": [
       "<Figure size 432x288 with 1 Axes>"
      ]
     },
     "metadata": {
      "needs_background": "light"
     },
     "output_type": "display_data"
    }
   ],
   "source": [
    "corona['접촉력'].value_counts().head(15).sort_values().plot.barh()\n",
    "plt.show()"
   ]
  },
  {
   "cell_type": "markdown",
   "metadata": {},
   "source": [
    "## 확진자를 가장 많이 발생시킨 접촉력 상위 15개를 기준으로  월별 빈도수를 집계\n",
    "- 몇 월에 발생했는지 확인 (년도는 무시)"
   ]
  },
  {
   "cell_type": "code",
   "execution_count": 159,
   "metadata": {},
   "outputs": [
    {
     "data": {
      "text/plain": [
       "Index(['기타 확진자 접촉', '감염경로 조사중', '타시도 확진자 접촉', '동부구치소 관련', '해외유입',\n",
       "       '성북구 사랑제일교회 관련', '강서구 교회 관련', '종로구 소재 파고다타운 관련', '구로구 소재 요양병원/요양원 관련',\n",
       "       '강서구 댄스교습관련 시설', '용산구 소재 병원 관련', '병원 및 요양시설', '이태원 클럽 관련', '8.15서울도심집회',\n",
       "       '마포구 홍대새교회 관련'],\n",
       "      dtype='object')"
      ]
     },
     "execution_count": 159,
     "metadata": {},
     "output_type": "execute_result"
    }
   ],
   "source": [
    "idx = corona['접촉력'].value_counts().head(15).index\n",
    "idx"
   ]
  },
  {
   "cell_type": "code",
   "execution_count": 162,
   "metadata": {},
   "outputs": [
    {
     "data": {
      "text/html": [
       "<div>\n",
       "<style scoped>\n",
       "    .dataframe tbody tr th:only-of-type {\n",
       "        vertical-align: middle;\n",
       "    }\n",
       "\n",
       "    .dataframe tbody tr th {\n",
       "        vertical-align: top;\n",
       "    }\n",
       "\n",
       "    .dataframe thead th {\n",
       "        text-align: right;\n",
       "    }\n",
       "</style>\n",
       "<table border=\"1\" class=\"dataframe\">\n",
       "  <thead>\n",
       "    <tr style=\"text-align: right;\">\n",
       "      <th>월</th>\n",
       "      <th>1</th>\n",
       "      <th>2</th>\n",
       "      <th>3</th>\n",
       "      <th>4</th>\n",
       "      <th>5</th>\n",
       "      <th>6</th>\n",
       "      <th>7</th>\n",
       "      <th>8</th>\n",
       "      <th>9</th>\n",
       "      <th>10</th>\n",
       "      <th>11</th>\n",
       "      <th>12</th>\n",
       "    </tr>\n",
       "    <tr>\n",
       "      <th>접촉력</th>\n",
       "      <th></th>\n",
       "      <th></th>\n",
       "      <th></th>\n",
       "      <th></th>\n",
       "      <th></th>\n",
       "      <th></th>\n",
       "      <th></th>\n",
       "      <th></th>\n",
       "      <th></th>\n",
       "      <th></th>\n",
       "      <th></th>\n",
       "      <th></th>\n",
       "    </tr>\n",
       "  </thead>\n",
       "  <tbody>\n",
       "    <tr>\n",
       "      <th>8.15서울도심집회</th>\n",
       "      <td>0</td>\n",
       "      <td>0</td>\n",
       "      <td>0</td>\n",
       "      <td>0</td>\n",
       "      <td>0</td>\n",
       "      <td>0</td>\n",
       "      <td>0</td>\n",
       "      <td>113</td>\n",
       "      <td>13</td>\n",
       "      <td>0</td>\n",
       "      <td>0</td>\n",
       "      <td>0</td>\n",
       "    </tr>\n",
       "    <tr>\n",
       "      <th>감염경로 조사중</th>\n",
       "      <td>1348</td>\n",
       "      <td>967</td>\n",
       "      <td>462</td>\n",
       "      <td>16</td>\n",
       "      <td>5</td>\n",
       "      <td>66</td>\n",
       "      <td>49</td>\n",
       "      <td>440</td>\n",
       "      <td>286</td>\n",
       "      <td>120</td>\n",
       "      <td>474</td>\n",
       "      <td>2761</td>\n",
       "    </tr>\n",
       "    <tr>\n",
       "      <th>강서구 교회 관련</th>\n",
       "      <td>1</td>\n",
       "      <td>0</td>\n",
       "      <td>0</td>\n",
       "      <td>0</td>\n",
       "      <td>0</td>\n",
       "      <td>0</td>\n",
       "      <td>0</td>\n",
       "      <td>0</td>\n",
       "      <td>0</td>\n",
       "      <td>0</td>\n",
       "      <td>0</td>\n",
       "      <td>245</td>\n",
       "    </tr>\n",
       "    <tr>\n",
       "      <th>강서구 댄스교습관련 시설</th>\n",
       "      <td>0</td>\n",
       "      <td>0</td>\n",
       "      <td>0</td>\n",
       "      <td>0</td>\n",
       "      <td>0</td>\n",
       "      <td>0</td>\n",
       "      <td>0</td>\n",
       "      <td>0</td>\n",
       "      <td>0</td>\n",
       "      <td>0</td>\n",
       "      <td>182</td>\n",
       "      <td>42</td>\n",
       "    </tr>\n",
       "    <tr>\n",
       "      <th>구로구 소재 요양병원/요양원 관련</th>\n",
       "      <td>27</td>\n",
       "      <td>0</td>\n",
       "      <td>0</td>\n",
       "      <td>0</td>\n",
       "      <td>0</td>\n",
       "      <td>0</td>\n",
       "      <td>0</td>\n",
       "      <td>0</td>\n",
       "      <td>0</td>\n",
       "      <td>0</td>\n",
       "      <td>0</td>\n",
       "      <td>199</td>\n",
       "    </tr>\n",
       "    <tr>\n",
       "      <th>기타 확진자 접촉</th>\n",
       "      <td>1964</td>\n",
       "      <td>1518</td>\n",
       "      <td>637</td>\n",
       "      <td>9</td>\n",
       "      <td>0</td>\n",
       "      <td>14</td>\n",
       "      <td>33</td>\n",
       "      <td>440</td>\n",
       "      <td>304</td>\n",
       "      <td>116</td>\n",
       "      <td>631</td>\n",
       "      <td>3994</td>\n",
       "    </tr>\n",
       "    <tr>\n",
       "      <th>동부구치소 관련</th>\n",
       "      <td>242</td>\n",
       "      <td>0</td>\n",
       "      <td>0</td>\n",
       "      <td>0</td>\n",
       "      <td>0</td>\n",
       "      <td>0</td>\n",
       "      <td>0</td>\n",
       "      <td>0</td>\n",
       "      <td>0</td>\n",
       "      <td>0</td>\n",
       "      <td>3</td>\n",
       "      <td>930</td>\n",
       "    </tr>\n",
       "    <tr>\n",
       "      <th>마포구 홍대새교회 관련</th>\n",
       "      <td>0</td>\n",
       "      <td>0</td>\n",
       "      <td>0</td>\n",
       "      <td>0</td>\n",
       "      <td>0</td>\n",
       "      <td>0</td>\n",
       "      <td>0</td>\n",
       "      <td>0</td>\n",
       "      <td>0</td>\n",
       "      <td>0</td>\n",
       "      <td>96</td>\n",
       "      <td>13</td>\n",
       "    </tr>\n",
       "    <tr>\n",
       "      <th>병원 및 요양시설</th>\n",
       "      <td>57</td>\n",
       "      <td>82</td>\n",
       "      <td>31</td>\n",
       "      <td>0</td>\n",
       "      <td>0</td>\n",
       "      <td>0</td>\n",
       "      <td>0</td>\n",
       "      <td>0</td>\n",
       "      <td>0</td>\n",
       "      <td>0</td>\n",
       "      <td>0</td>\n",
       "      <td>0</td>\n",
       "    </tr>\n",
       "    <tr>\n",
       "      <th>성북구 사랑제일교회 관련</th>\n",
       "      <td>0</td>\n",
       "      <td>0</td>\n",
       "      <td>0</td>\n",
       "      <td>0</td>\n",
       "      <td>0</td>\n",
       "      <td>0</td>\n",
       "      <td>0</td>\n",
       "      <td>628</td>\n",
       "      <td>13</td>\n",
       "      <td>0</td>\n",
       "      <td>0</td>\n",
       "      <td>0</td>\n",
       "    </tr>\n",
       "    <tr>\n",
       "      <th>용산구 소재 병원 관련</th>\n",
       "      <td>0</td>\n",
       "      <td>203</td>\n",
       "      <td>16</td>\n",
       "      <td>0</td>\n",
       "      <td>0</td>\n",
       "      <td>0</td>\n",
       "      <td>0</td>\n",
       "      <td>0</td>\n",
       "      <td>0</td>\n",
       "      <td>0</td>\n",
       "      <td>0</td>\n",
       "      <td>0</td>\n",
       "    </tr>\n",
       "    <tr>\n",
       "      <th>이태원 클럽 관련</th>\n",
       "      <td>0</td>\n",
       "      <td>0</td>\n",
       "      <td>0</td>\n",
       "      <td>0</td>\n",
       "      <td>133</td>\n",
       "      <td>6</td>\n",
       "      <td>0</td>\n",
       "      <td>0</td>\n",
       "      <td>0</td>\n",
       "      <td>0</td>\n",
       "      <td>0</td>\n",
       "      <td>0</td>\n",
       "    </tr>\n",
       "    <tr>\n",
       "      <th>종로구 소재 파고다타운 관련</th>\n",
       "      <td>0</td>\n",
       "      <td>0</td>\n",
       "      <td>0</td>\n",
       "      <td>0</td>\n",
       "      <td>0</td>\n",
       "      <td>0</td>\n",
       "      <td>0</td>\n",
       "      <td>0</td>\n",
       "      <td>0</td>\n",
       "      <td>0</td>\n",
       "      <td>1</td>\n",
       "      <td>226</td>\n",
       "    </tr>\n",
       "    <tr>\n",
       "      <th>타시도 확진자 접촉</th>\n",
       "      <td>212</td>\n",
       "      <td>163</td>\n",
       "      <td>115</td>\n",
       "      <td>1</td>\n",
       "      <td>2</td>\n",
       "      <td>4</td>\n",
       "      <td>13</td>\n",
       "      <td>102</td>\n",
       "      <td>71</td>\n",
       "      <td>33</td>\n",
       "      <td>124</td>\n",
       "      <td>464</td>\n",
       "    </tr>\n",
       "    <tr>\n",
       "      <th>해외유입</th>\n",
       "      <td>152</td>\n",
       "      <td>141</td>\n",
       "      <td>164</td>\n",
       "      <td>111</td>\n",
       "      <td>25</td>\n",
       "      <td>23</td>\n",
       "      <td>39</td>\n",
       "      <td>50</td>\n",
       "      <td>23</td>\n",
       "      <td>44</td>\n",
       "      <td>83</td>\n",
       "      <td>110</td>\n",
       "    </tr>\n",
       "  </tbody>\n",
       "</table>\n",
       "</div>"
      ],
      "text/plain": [
       "월                     1     2    3    4    5   6   7    8    9    10   11  \\\n",
       "접촉력                                                                         \n",
       "8.15서울도심집회             0     0    0    0    0   0   0  113   13    0    0   \n",
       "감염경로 조사중            1348   967  462   16    5  66  49  440  286  120  474   \n",
       "강서구 교회 관련              1     0    0    0    0   0   0    0    0    0    0   \n",
       "강서구 댄스교습관련 시설          0     0    0    0    0   0   0    0    0    0  182   \n",
       "구로구 소재 요양병원/요양원 관련    27     0    0    0    0   0   0    0    0    0    0   \n",
       "기타 확진자 접촉           1964  1518  637    9    0  14  33  440  304  116  631   \n",
       "동부구치소 관련             242     0    0    0    0   0   0    0    0    0    3   \n",
       "마포구 홍대새교회 관련           0     0    0    0    0   0   0    0    0    0   96   \n",
       "병원 및 요양시설             57    82   31    0    0   0   0    0    0    0    0   \n",
       "성북구 사랑제일교회 관련          0     0    0    0    0   0   0  628   13    0    0   \n",
       "용산구 소재 병원 관련           0   203   16    0    0   0   0    0    0    0    0   \n",
       "이태원 클럽 관련              0     0    0    0  133   6   0    0    0    0    0   \n",
       "종로구 소재 파고다타운 관련        0     0    0    0    0   0   0    0    0    0    1   \n",
       "타시도 확진자 접촉           212   163  115    1    2   4  13  102   71   33  124   \n",
       "해외유입                 152   141  164  111   25  23  39   50   23   44   83   \n",
       "\n",
       "월                     12  \n",
       "접촉력                       \n",
       "8.15서울도심집회             0  \n",
       "감염경로 조사중            2761  \n",
       "강서구 교회 관련            245  \n",
       "강서구 댄스교습관련 시설         42  \n",
       "구로구 소재 요양병원/요양원 관련   199  \n",
       "기타 확진자 접촉           3994  \n",
       "동부구치소 관련             930  \n",
       "마포구 홍대새교회 관련          13  \n",
       "병원 및 요양시설              0  \n",
       "성북구 사랑제일교회 관련          0  \n",
       "용산구 소재 병원 관련           0  \n",
       "이태원 클럽 관련              0  \n",
       "종로구 소재 파고다타운 관련      226  \n",
       "타시도 확진자 접촉           464  \n",
       "해외유입                 110  "
      ]
     },
     "execution_count": 162,
     "metadata": {},
     "output_type": "execute_result"
    }
   ],
   "source": [
    "corona.loc[corona['접촉력'].isin(idx)].pivot_table(values = 'ID',\n",
    "                                                 index = '접촉력',\n",
    "                                                 columns = '월',\n",
    "                                                 aggfunc = 'count',\n",
    "                                                 fill_value = 0)"
   ]
  },
  {
   "cell_type": "code",
   "execution_count": null,
   "metadata": {},
   "outputs": [],
   "source": []
  },
  {
   "cell_type": "markdown",
   "metadata": {},
   "source": [
    "# 현재상태 관련조회"
   ]
  },
  {
   "cell_type": "markdown",
   "metadata": {},
   "source": [
    "## 사망자 수/비율 조회"
   ]
  },
  {
   "cell_type": "code",
   "execution_count": 39,
   "metadata": {},
   "outputs": [
    {
     "data": {
      "text/plain": [
       "405"
      ]
     },
     "execution_count": 39,
     "metadata": {},
     "output_type": "execute_result"
    }
   ],
   "source": [
    "사망자수 = corona[corona['현재상태'] == '사망']['ID'].count()\n",
    "사망자수"
   ]
  },
  {
   "cell_type": "code",
   "execution_count": 40,
   "metadata": {},
   "outputs": [
    {
     "data": {
      "text/plain": [
       "30061"
      ]
     },
     "execution_count": 40,
     "metadata": {},
     "output_type": "execute_result"
    }
   ],
   "source": [
    "전체수 = corona['ID'].count()\n",
    "전체수"
   ]
  },
  {
   "cell_type": "code",
   "execution_count": 41,
   "metadata": {
    "scrolled": true
   },
   "outputs": [
    {
     "name": "stdout",
     "output_type": "stream",
     "text": [
      "사망자 수 비율: 1.3472605701739795%\n"
     ]
    }
   ],
   "source": [
    "print(f'사망자 수 비율: {사망자수/전체수 * 100}%')"
   ]
  },
  {
   "cell_type": "code",
   "execution_count": null,
   "metadata": {},
   "outputs": [],
   "source": []
  },
  {
   "cell_type": "code",
   "execution_count": 165,
   "metadata": {
    "scrolled": true
   },
   "outputs": [
    {
     "data": {
      "text/plain": [
       "405"
      ]
     },
     "execution_count": 165,
     "metadata": {},
     "output_type": "execute_result"
    }
   ],
   "source": [
    "(corona['현재상태'] == '사망').sum()  # 위와 같다."
   ]
  },
  {
   "cell_type": "code",
   "execution_count": 168,
   "metadata": {},
   "outputs": [
    {
     "data": {
      "text/plain": [
       "0.013472605701739795"
      ]
     },
     "execution_count": 168,
     "metadata": {},
     "output_type": "execute_result"
    }
   ],
   "source": [
    "(corona['현재상태'] == '사망').mean()  # mean을 계산하면 전체중에 사망한 사람의 비율이므로 이런 방법도 가능"
   ]
  },
  {
   "cell_type": "markdown",
   "metadata": {},
   "source": [
    "## 퇴원, 사망자, 치료중(NA)의 비율을 시각화"
   ]
  },
  {
   "cell_type": "code",
   "execution_count": 42,
   "metadata": {},
   "outputs": [
    {
     "data": {
      "text/plain": [
       "26738"
      ]
     },
     "execution_count": 42,
     "metadata": {},
     "output_type": "execute_result"
    }
   ],
   "source": [
    "퇴원수 = corona[corona['현재상태'] == '퇴원']['ID'].count()\n",
    "퇴원수"
   ]
  },
  {
   "cell_type": "code",
   "execution_count": 169,
   "metadata": {},
   "outputs": [
    {
     "data": {
      "text/plain": [
       "26738"
      ]
     },
     "execution_count": 169,
     "metadata": {},
     "output_type": "execute_result"
    }
   ],
   "source": [
    "(corona['현재상태'] == '퇴원').sum()"
   ]
  },
  {
   "cell_type": "code",
   "execution_count": 43,
   "metadata": {},
   "outputs": [
    {
     "data": {
      "text/plain": [
       "2918"
      ]
     },
     "execution_count": 43,
     "metadata": {},
     "output_type": "execute_result"
    }
   ],
   "source": [
    "치료중수 = corona[corona['현재상태'].isna()]['ID'].count()\n",
    "치료중수"
   ]
  },
  {
   "cell_type": "code",
   "execution_count": 44,
   "metadata": {},
   "outputs": [
    {
     "data": {
      "text/plain": [
       "퇴원수     26738\n",
       "사망자수      405\n",
       "치료중수     2918\n",
       "dtype: int64"
      ]
     },
     "execution_count": 44,
     "metadata": {},
     "output_type": "execute_result"
    }
   ],
   "source": [
    "현재상태 = pd.Series([퇴원수, 사망자수, 치료중수])\n",
    "현재상태.index = ['퇴원수', '사망자수', '치료중수']\n",
    "현재상태"
   ]
  },
  {
   "cell_type": "code",
   "execution_count": 45,
   "metadata": {},
   "outputs": [
    {
     "data": {
      "image/png": "[encoded data removed]",
      "text/plain": [
       "<Figure size 432x288 with 1 Axes>"
      ]
     },
     "metadata": {
      "needs_background": "light"
     },
     "output_type": "display_data"
    }
   ],
   "source": [
    "현재상태.plot.bar(rot = 40)\n",
    "for idx, val in enumerate(현재상태):\n",
    "    plt.text(idx - 0.1, val + 300, val)\n",
    "plt.show()"
   ]
  },
  {
   "cell_type": "code",
   "execution_count": 46,
   "metadata": {},
   "outputs": [
    {
     "data": {
      "image/png": "[encoded data removed]",
      "text/plain": [
       "<Figure size 432x288 with 1 Axes>"
      ]
     },
     "metadata": {},
     "output_type": "display_data"
    }
   ],
   "source": [
    "현재상태.plot.pie(autopct = '%.2f%%', cmap = 'cool')\n",
    "plt.show()"
   ]
  },
  {
   "cell_type": "code",
   "execution_count": 170,
   "metadata": {},
   "outputs": [
    {
     "data": {
      "text/plain": [
       "0.8894581018595522"
      ]
     },
     "execution_count": 170,
     "metadata": {},
     "output_type": "execute_result"
    }
   ],
   "source": [
    "(corona['현재상태'] == '퇴원').mean()"
   ]
  },
  {
   "cell_type": "code",
   "execution_count": 172,
   "metadata": {},
   "outputs": [
    {
     "data": {
      "text/plain": [
       "0.013472605701739795"
      ]
     },
     "execution_count": 172,
     "metadata": {},
     "output_type": "execute_result"
    }
   ],
   "source": [
    "(corona['현재상태'] == '사망').mean()"
   ]
  },
  {
   "cell_type": "code",
   "execution_count": 173,
   "metadata": {},
   "outputs": [
    {
     "data": {
      "text/plain": [
       "0.09706929243870796"
      ]
     },
     "execution_count": 173,
     "metadata": {},
     "output_type": "execute_result"
    }
   ],
   "source": [
    "(corona['현재상태'].isna()).mean()"
   ]
  },
  {
   "cell_type": "code",
   "execution_count": 179,
   "metadata": {},
   "outputs": [
    {
     "data": {
      "text/plain": [
       "퇴원     26738\n",
       "치료중     2918\n",
       "사망       405\n",
       "Name: 현재상태, dtype: int64"
      ]
     },
     "execution_count": 179,
     "metadata": {},
     "output_type": "execute_result"
    }
   ],
   "source": [
    "percent_table = corona['현재상태'].fillna('치료중').value_counts()\n",
    "percent_table"
   ]
  },
  {
   "cell_type": "code",
   "execution_count": 182,
   "metadata": {},
   "outputs": [
    {
     "data": {
      "image/png": "[encoded data removed]",
      "text/plain": [
       "<Figure size 504x504 with 1 Axes>"
      ]
     },
     "metadata": {},
     "output_type": "display_data"
    }
   ],
   "source": [
    "percent_table.plot.pie(autopct = '%.2f%%', figsize = (7, 7))\n",
    "plt.show()"
   ]
  },
  {
   "cell_type": "code",
   "execution_count": 180,
   "metadata": {
    "scrolled": true
   },
   "outputs": [
    {
     "data": {
      "text/plain": [
       "퇴원     26738\n",
       "NaN     2918\n",
       "사망       405\n",
       "Name: 현재상태, dtype: int64"
      ]
     },
     "execution_count": 180,
     "metadata": {},
     "output_type": "execute_result"
    }
   ],
   "source": [
    "corona['현재상태'].value_counts(dropna = False)  # dropna = False를 통해 결측치도 카운트할 수 있다."
   ]
  },
  {
   "cell_type": "code",
   "execution_count": null,
   "metadata": {},
   "outputs": [],
   "source": []
  }
 ],
 "metadata": {
  "kernelspec": {
   "display_name": "Python 3",
   "language": "python",
   "name": "python3"
  },
  "language_info": {
   "codemirror_mode": {
    "name": "ipython",
    "version": 3
   },
   "file_extension": ".py",
   "mimetype": "text/x-python",
   "name": "python",
   "nbconvert_exporter": "python",
   "pygments_lexer": "ipython3",
   "version": "3.6.5"
  },
  "toc": {
   "base_numbering": 1,
   "nav_menu": {},
   "number_sections": true,
   "sideBar": true,
   "skip_h1_title": false,
   "title_cell": "Table of Contents",
   "title_sidebar": "Contents",
   "toc_cell": false,
   "toc_position": {},
   "toc_section_display": true,
   "toc_window_display": false
  },
  "varInspector": {
   "cols": {
    "lenName": 16,
    "lenType": 16,
    "lenVar": 40
   },
   "kernels_config": {
    "python": {
     "delete_cmd_postfix": "",
     "delete_cmd_prefix": "del ",
     "library": "var_list.py",
     "varRefreshCmd": "print(var_dic_list())"
    },
    "r": {
     "delete_cmd_postfix": ") ",
     "delete_cmd_prefix": "rm(",
     "library": "var_list.r",
     "varRefreshCmd": "cat(var_dic_list()) "
    }
   },
   "types_to_exclude": [
    "module",
    "function",
    "builtin_function_or_method",
    "instance",
    "_Feature"
   ],
   "window_display": false
  }
 },
 "nbformat": 4,
 "nbformat_minor": 4
}
